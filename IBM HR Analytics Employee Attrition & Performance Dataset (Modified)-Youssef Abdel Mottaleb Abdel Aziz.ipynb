{
 "cells": [
  {
   "cell_type": "markdown",
   "id": "cd2f6073",
   "metadata": {},
   "source": [
    "## IBM HR Analytics Employee Attrition & Performance Dataset"
   ]
  },
  {
   "cell_type": "markdown",
   "id": "cabb6eec",
   "metadata": {},
   "source": [
    "#### First of all we have 4 main factors affecting our dataset and contributing more to employee attrition which are:"
   ]
  },
  {
   "cell_type": "markdown",
   "id": "f0258ae4",
   "metadata": {},
   "source": [
    "- Education like ( Education Field , Department and Education Degree ) \n",
    "- Experience like ( JobLevel , JobInvolvement , YearsAtCompany , TotalWorkingYears etc )\n",
    "- Salary like ( PerformanceRating , HourlyRate , DailyRate , PercentSalaryHike , MonthlyIncome etc )\n",
    "- Personal Information like ( MaritalStatus , JobSatisfaction , Gender , Age , BusinessTravel etc )"
   ]
  },
  {
   "cell_type": "markdown",
   "id": "df61e9c9",
   "metadata": {},
   "source": [
    "#### In this Dataset we will use these Libraries to help us explore our data and show it's Descriptive statistics"
   ]
  },
  {
   "cell_type": "code",
   "execution_count": 1,
   "id": "2309d0bb",
   "metadata": {},
   "outputs": [],
   "source": [
    "import numpy as np\n",
    "import pandas as pd\n",
    "import seaborn as sns\n",
    "import matplotlib.pyplot as plt"
   ]
  },
  {
   "cell_type": "markdown",
   "id": "8f5d52ed",
   "metadata": {},
   "source": [
    "#### first of we have to take a look in the dataset"
   ]
  },
  {
   "cell_type": "markdown",
   "id": "237a8d31",
   "metadata": {},
   "source": [
    "## 1- Data Review"
   ]
  },
  {
   "cell_type": "code",
   "execution_count": 2,
   "id": "d492bb91",
   "metadata": {},
   "outputs": [
    {
     "data": {
      "text/html": [
       "<div>\n",
       "<style scoped>\n",
       "    .dataframe tbody tr th:only-of-type {\n",
       "        vertical-align: middle;\n",
       "    }\n",
       "\n",
       "    .dataframe tbody tr th {\n",
       "        vertical-align: top;\n",
       "    }\n",
       "\n",
       "    .dataframe thead th {\n",
       "        text-align: right;\n",
       "    }\n",
       "</style>\n",
       "<table border=\"1\" class=\"dataframe\">\n",
       "  <thead>\n",
       "    <tr style=\"text-align: right;\">\n",
       "      <th></th>\n",
       "      <th>Age</th>\n",
       "      <th>Attrition</th>\n",
       "      <th>BusinessTravel</th>\n",
       "      <th>DailyRate</th>\n",
       "      <th>Department</th>\n",
       "      <th>DistanceFromHome</th>\n",
       "      <th>Education</th>\n",
       "      <th>EducationField</th>\n",
       "      <th>EmployeeCount</th>\n",
       "      <th>EmployeeNumber</th>\n",
       "      <th>...</th>\n",
       "      <th>RelationshipSatisfaction</th>\n",
       "      <th>StandardHours</th>\n",
       "      <th>StockOptionLevel</th>\n",
       "      <th>TotalWorkingYears</th>\n",
       "      <th>TrainingTimesLastYear</th>\n",
       "      <th>WorkLifeBalance</th>\n",
       "      <th>YearsAtCompany</th>\n",
       "      <th>YearsInCurrentRole</th>\n",
       "      <th>YearsSinceLastPromotion</th>\n",
       "      <th>YearsWithCurrManager</th>\n",
       "    </tr>\n",
       "  </thead>\n",
       "  <tbody>\n",
       "    <tr>\n",
       "      <th>0</th>\n",
       "      <td>41</td>\n",
       "      <td>Yes</td>\n",
       "      <td>Travel_Rarely</td>\n",
       "      <td>1102</td>\n",
       "      <td>Sales</td>\n",
       "      <td>1</td>\n",
       "      <td>2</td>\n",
       "      <td>Life Sciences</td>\n",
       "      <td>1</td>\n",
       "      <td>1</td>\n",
       "      <td>...</td>\n",
       "      <td>1</td>\n",
       "      <td>80</td>\n",
       "      <td>0</td>\n",
       "      <td>8</td>\n",
       "      <td>0</td>\n",
       "      <td>1</td>\n",
       "      <td>6</td>\n",
       "      <td>4</td>\n",
       "      <td>0</td>\n",
       "      <td>5</td>\n",
       "    </tr>\n",
       "    <tr>\n",
       "      <th>1</th>\n",
       "      <td>49</td>\n",
       "      <td>No</td>\n",
       "      <td>Travel_Frequently</td>\n",
       "      <td>279</td>\n",
       "      <td>Research &amp; Development</td>\n",
       "      <td>8</td>\n",
       "      <td>1</td>\n",
       "      <td>Life Sciences</td>\n",
       "      <td>1</td>\n",
       "      <td>2</td>\n",
       "      <td>...</td>\n",
       "      <td>4</td>\n",
       "      <td>80</td>\n",
       "      <td>1</td>\n",
       "      <td>10</td>\n",
       "      <td>3</td>\n",
       "      <td>3</td>\n",
       "      <td>10</td>\n",
       "      <td>7</td>\n",
       "      <td>1</td>\n",
       "      <td>7</td>\n",
       "    </tr>\n",
       "    <tr>\n",
       "      <th>2</th>\n",
       "      <td>37</td>\n",
       "      <td>Yes</td>\n",
       "      <td>Travel_Rarely</td>\n",
       "      <td>1373</td>\n",
       "      <td>Research &amp; Development</td>\n",
       "      <td>2</td>\n",
       "      <td>2</td>\n",
       "      <td>Other</td>\n",
       "      <td>1</td>\n",
       "      <td>4</td>\n",
       "      <td>...</td>\n",
       "      <td>2</td>\n",
       "      <td>80</td>\n",
       "      <td>0</td>\n",
       "      <td>7</td>\n",
       "      <td>3</td>\n",
       "      <td>3</td>\n",
       "      <td>0</td>\n",
       "      <td>0</td>\n",
       "      <td>0</td>\n",
       "      <td>0</td>\n",
       "    </tr>\n",
       "    <tr>\n",
       "      <th>3</th>\n",
       "      <td>33</td>\n",
       "      <td>No</td>\n",
       "      <td>Travel_Frequently</td>\n",
       "      <td>1392</td>\n",
       "      <td>Research &amp; Development</td>\n",
       "      <td>3</td>\n",
       "      <td>4</td>\n",
       "      <td>Life Sciences</td>\n",
       "      <td>1</td>\n",
       "      <td>5</td>\n",
       "      <td>...</td>\n",
       "      <td>3</td>\n",
       "      <td>80</td>\n",
       "      <td>0</td>\n",
       "      <td>8</td>\n",
       "      <td>3</td>\n",
       "      <td>3</td>\n",
       "      <td>8</td>\n",
       "      <td>7</td>\n",
       "      <td>3</td>\n",
       "      <td>0</td>\n",
       "    </tr>\n",
       "    <tr>\n",
       "      <th>4</th>\n",
       "      <td>27</td>\n",
       "      <td>No</td>\n",
       "      <td>Travel_Rarely</td>\n",
       "      <td>591</td>\n",
       "      <td>Research &amp; Development</td>\n",
       "      <td>2</td>\n",
       "      <td>1</td>\n",
       "      <td>Medical</td>\n",
       "      <td>1</td>\n",
       "      <td>7</td>\n",
       "      <td>...</td>\n",
       "      <td>4</td>\n",
       "      <td>80</td>\n",
       "      <td>1</td>\n",
       "      <td>6</td>\n",
       "      <td>3</td>\n",
       "      <td>3</td>\n",
       "      <td>2</td>\n",
       "      <td>2</td>\n",
       "      <td>2</td>\n",
       "      <td>2</td>\n",
       "    </tr>\n",
       "  </tbody>\n",
       "</table>\n",
       "<p>5 rows × 35 columns</p>\n",
       "</div>"
      ],
      "text/plain": [
       "   Age Attrition     BusinessTravel  DailyRate              Department  \\\n",
       "0   41       Yes      Travel_Rarely       1102                   Sales   \n",
       "1   49        No  Travel_Frequently        279  Research & Development   \n",
       "2   37       Yes      Travel_Rarely       1373  Research & Development   \n",
       "3   33        No  Travel_Frequently       1392  Research & Development   \n",
       "4   27        No      Travel_Rarely        591  Research & Development   \n",
       "\n",
       "   DistanceFromHome  Education EducationField  EmployeeCount  EmployeeNumber  \\\n",
       "0                 1          2  Life Sciences              1               1   \n",
       "1                 8          1  Life Sciences              1               2   \n",
       "2                 2          2          Other              1               4   \n",
       "3                 3          4  Life Sciences              1               5   \n",
       "4                 2          1        Medical              1               7   \n",
       "\n",
       "   ...  RelationshipSatisfaction StandardHours  StockOptionLevel  \\\n",
       "0  ...                         1            80                 0   \n",
       "1  ...                         4            80                 1   \n",
       "2  ...                         2            80                 0   \n",
       "3  ...                         3            80                 0   \n",
       "4  ...                         4            80                 1   \n",
       "\n",
       "   TotalWorkingYears  TrainingTimesLastYear WorkLifeBalance  YearsAtCompany  \\\n",
       "0                  8                      0               1               6   \n",
       "1                 10                      3               3              10   \n",
       "2                  7                      3               3               0   \n",
       "3                  8                      3               3               8   \n",
       "4                  6                      3               3               2   \n",
       "\n",
       "  YearsInCurrentRole  YearsSinceLastPromotion  YearsWithCurrManager  \n",
       "0                  4                        0                     5  \n",
       "1                  7                        1                     7  \n",
       "2                  0                        0                     0  \n",
       "3                  7                        3                     0  \n",
       "4                  2                        2                     2  \n",
       "\n",
       "[5 rows x 35 columns]"
      ]
     },
     "execution_count": 2,
     "metadata": {},
     "output_type": "execute_result"
    }
   ],
   "source": [
    "# reading data from device\n",
    "data=pd.read_csv(\"WA_Fn-UseC_-HR-Employee-Attrition.csv\",sep=\",\",encoding=\"utf-8\")\n",
    "data.head()"
   ]
  },
  {
   "cell_type": "markdown",
   "id": "cf65df06",
   "metadata": {},
   "source": []
  },
  {
   "cell_type": "code",
   "execution_count": 3,
   "id": "6498db18",
   "metadata": {},
   "outputs": [
    {
     "name": "stdout",
     "output_type": "stream",
     "text": [
      "<class 'pandas.core.frame.DataFrame'>\n",
      "RangeIndex: 1470 entries, 0 to 1469\n",
      "Data columns (total 35 columns):\n",
      " #   Column                    Non-Null Count  Dtype \n",
      "---  ------                    --------------  ----- \n",
      " 0   Age                       1470 non-null   int64 \n",
      " 1   Attrition                 1470 non-null   object\n",
      " 2   BusinessTravel            1470 non-null   object\n",
      " 3   DailyRate                 1470 non-null   int64 \n",
      " 4   Department                1470 non-null   object\n",
      " 5   DistanceFromHome          1470 non-null   int64 \n",
      " 6   Education                 1470 non-null   int64 \n",
      " 7   EducationField            1470 non-null   object\n",
      " 8   EmployeeCount             1470 non-null   int64 \n",
      " 9   EmployeeNumber            1470 non-null   int64 \n",
      " 10  EnvironmentSatisfaction   1470 non-null   int64 \n",
      " 11  Gender                    1470 non-null   object\n",
      " 12  HourlyRate                1470 non-null   int64 \n",
      " 13  JobInvolvement            1470 non-null   int64 \n",
      " 14  JobLevel                  1470 non-null   int64 \n",
      " 15  JobRole                   1470 non-null   object\n",
      " 16  JobSatisfaction           1470 non-null   int64 \n",
      " 17  MaritalStatus             1470 non-null   object\n",
      " 18  MonthlyIncome             1470 non-null   int64 \n",
      " 19  MonthlyRate               1470 non-null   int64 \n",
      " 20  NumCompaniesWorked        1470 non-null   int64 \n",
      " 21  Over18                    1470 non-null   object\n",
      " 22  OverTime                  1470 non-null   object\n",
      " 23  PercentSalaryHike         1470 non-null   int64 \n",
      " 24  PerformanceRating         1470 non-null   int64 \n",
      " 25  RelationshipSatisfaction  1470 non-null   int64 \n",
      " 26  StandardHours             1470 non-null   int64 \n",
      " 27  StockOptionLevel          1470 non-null   int64 \n",
      " 28  TotalWorkingYears         1470 non-null   int64 \n",
      " 29  TrainingTimesLastYear     1470 non-null   int64 \n",
      " 30  WorkLifeBalance           1470 non-null   int64 \n",
      " 31  YearsAtCompany            1470 non-null   int64 \n",
      " 32  YearsInCurrentRole        1470 non-null   int64 \n",
      " 33  YearsSinceLastPromotion   1470 non-null   int64 \n",
      " 34  YearsWithCurrManager      1470 non-null   int64 \n",
      "dtypes: int64(26), object(9)\n",
      "memory usage: 402.1+ KB\n"
     ]
    }
   ],
   "source": [
    "# getting information about columns using info() function\n",
    "data.info()"
   ]
  },
  {
   "cell_type": "code",
   "execution_count": 4,
   "id": "efbdba10",
   "metadata": {},
   "outputs": [
    {
     "data": {
      "text/plain": [
       "(1470, 35)"
      ]
     },
     "execution_count": 4,
     "metadata": {},
     "output_type": "execute_result"
    }
   ],
   "source": [
    "# getting the dataset's rows and columns by invoking the shape() function\n",
    "data.shape"
   ]
  },
  {
   "cell_type": "code",
   "execution_count": 5,
   "id": "41ca868c",
   "metadata": {},
   "outputs": [
    {
     "data": {
      "text/plain": [
       "Age                          int64\n",
       "Attrition                   object\n",
       "BusinessTravel              object\n",
       "DailyRate                    int64\n",
       "Department                  object\n",
       "DistanceFromHome             int64\n",
       "Education                    int64\n",
       "EducationField              object\n",
       "EmployeeCount                int64\n",
       "EmployeeNumber               int64\n",
       "EnvironmentSatisfaction      int64\n",
       "Gender                      object\n",
       "HourlyRate                   int64\n",
       "JobInvolvement               int64\n",
       "JobLevel                     int64\n",
       "JobRole                     object\n",
       "JobSatisfaction              int64\n",
       "MaritalStatus               object\n",
       "MonthlyIncome                int64\n",
       "MonthlyRate                  int64\n",
       "NumCompaniesWorked           int64\n",
       "Over18                      object\n",
       "OverTime                    object\n",
       "PercentSalaryHike            int64\n",
       "PerformanceRating            int64\n",
       "RelationshipSatisfaction     int64\n",
       "StandardHours                int64\n",
       "StockOptionLevel             int64\n",
       "TotalWorkingYears            int64\n",
       "TrainingTimesLastYear        int64\n",
       "WorkLifeBalance              int64\n",
       "YearsAtCompany               int64\n",
       "YearsInCurrentRole           int64\n",
       "YearsSinceLastPromotion      int64\n",
       "YearsWithCurrManager         int64\n",
       "dtype: object"
      ]
     },
     "execution_count": 5,
     "metadata": {},
     "output_type": "execute_result"
    }
   ],
   "source": [
    "#Check types for all the columns using dtypes\n",
    "data.dtypes"
   ]
  },
  {
   "cell_type": "markdown",
   "id": "e1197d34",
   "metadata": {},
   "source": [
    "## We Have 1470 rows and 35 Columns"
   ]
  },
  {
   "cell_type": "code",
   "execution_count": 6,
   "id": "8a801045",
   "metadata": {},
   "outputs": [
    {
     "name": "stdout",
     "output_type": "stream",
     "text": [
      "count    1470.000000\n",
      "mean       36.923810\n",
      "std         9.135373\n",
      "min        18.000000\n",
      "25%        30.000000\n",
      "50%        36.000000\n",
      "75%        43.000000\n",
      "max        60.000000\n",
      "Name: Age, dtype: float64\n",
      "\n",
      "----------------------------\n",
      "\n",
      "count     1470\n",
      "unique       2\n",
      "top         No\n",
      "freq      1233\n",
      "Name: Attrition, dtype: object\n",
      "\n",
      "----------------------------\n",
      "\n",
      "count              1470\n",
      "unique                3\n",
      "top       Travel_Rarely\n",
      "freq               1043\n",
      "Name: BusinessTravel, dtype: object\n",
      "\n",
      "----------------------------\n",
      "\n",
      "count    1470.000000\n",
      "mean      802.485714\n",
      "std       403.509100\n",
      "min       102.000000\n",
      "25%       465.000000\n",
      "50%       802.000000\n",
      "75%      1157.000000\n",
      "max      1499.000000\n",
      "Name: DailyRate, dtype: float64\n",
      "\n",
      "----------------------------\n",
      "\n",
      "count                       1470\n",
      "unique                         3\n",
      "top       Research & Development\n",
      "freq                         961\n",
      "Name: Department, dtype: object\n",
      "\n",
      "----------------------------\n",
      "\n",
      "count    1470.000000\n",
      "mean        9.192517\n",
      "std         8.106864\n",
      "min         1.000000\n",
      "25%         2.000000\n",
      "50%         7.000000\n",
      "75%        14.000000\n",
      "max        29.000000\n",
      "Name: DistanceFromHome, dtype: float64\n",
      "\n",
      "----------------------------\n",
      "\n",
      "count    1470.000000\n",
      "mean        2.912925\n",
      "std         1.024165\n",
      "min         1.000000\n",
      "25%         2.000000\n",
      "50%         3.000000\n",
      "75%         4.000000\n",
      "max         5.000000\n",
      "Name: Education, dtype: float64\n",
      "\n",
      "----------------------------\n",
      "\n",
      "count              1470\n",
      "unique                6\n",
      "top       Life Sciences\n",
      "freq                606\n",
      "Name: EducationField, dtype: object\n",
      "\n",
      "----------------------------\n",
      "\n",
      "count    1470.0\n",
      "mean        1.0\n",
      "std         0.0\n",
      "min         1.0\n",
      "25%         1.0\n",
      "50%         1.0\n",
      "75%         1.0\n",
      "max         1.0\n",
      "Name: EmployeeCount, dtype: float64\n",
      "\n",
      "----------------------------\n",
      "\n",
      "count    1470.000000\n",
      "mean     1024.865306\n",
      "std       602.024335\n",
      "min         1.000000\n",
      "25%       491.250000\n",
      "50%      1020.500000\n",
      "75%      1555.750000\n",
      "max      2068.000000\n",
      "Name: EmployeeNumber, dtype: float64\n",
      "\n",
      "----------------------------\n",
      "\n",
      "count    1470.000000\n",
      "mean        2.721769\n",
      "std         1.093082\n",
      "min         1.000000\n",
      "25%         2.000000\n",
      "50%         3.000000\n",
      "75%         4.000000\n",
      "max         4.000000\n",
      "Name: EnvironmentSatisfaction, dtype: float64\n",
      "\n",
      "----------------------------\n",
      "\n",
      "count     1470\n",
      "unique       2\n",
      "top       Male\n",
      "freq       882\n",
      "Name: Gender, dtype: object\n",
      "\n",
      "----------------------------\n",
      "\n",
      "count    1470.000000\n",
      "mean       65.891156\n",
      "std        20.329428\n",
      "min        30.000000\n",
      "25%        48.000000\n",
      "50%        66.000000\n",
      "75%        83.750000\n",
      "max       100.000000\n",
      "Name: HourlyRate, dtype: float64\n",
      "\n",
      "----------------------------\n",
      "\n",
      "count    1470.000000\n",
      "mean        2.729932\n",
      "std         0.711561\n",
      "min         1.000000\n",
      "25%         2.000000\n",
      "50%         3.000000\n",
      "75%         3.000000\n",
      "max         4.000000\n",
      "Name: JobInvolvement, dtype: float64\n",
      "\n",
      "----------------------------\n",
      "\n",
      "count    1470.000000\n",
      "mean        2.063946\n",
      "std         1.106940\n",
      "min         1.000000\n",
      "25%         1.000000\n",
      "50%         2.000000\n",
      "75%         3.000000\n",
      "max         5.000000\n",
      "Name: JobLevel, dtype: float64\n",
      "\n",
      "----------------------------\n",
      "\n",
      "count                1470\n",
      "unique                  9\n",
      "top       Sales Executive\n",
      "freq                  326\n",
      "Name: JobRole, dtype: object\n",
      "\n",
      "----------------------------\n",
      "\n",
      "count    1470.000000\n",
      "mean        2.728571\n",
      "std         1.102846\n",
      "min         1.000000\n",
      "25%         2.000000\n",
      "50%         3.000000\n",
      "75%         4.000000\n",
      "max         4.000000\n",
      "Name: JobSatisfaction, dtype: float64\n",
      "\n",
      "----------------------------\n",
      "\n",
      "count        1470\n",
      "unique          3\n",
      "top       Married\n",
      "freq          673\n",
      "Name: MaritalStatus, dtype: object\n",
      "\n",
      "----------------------------\n",
      "\n",
      "count     1470.000000\n",
      "mean      6502.931293\n",
      "std       4707.956783\n",
      "min       1009.000000\n",
      "25%       2911.000000\n",
      "50%       4919.000000\n",
      "75%       8379.000000\n",
      "max      19999.000000\n",
      "Name: MonthlyIncome, dtype: float64\n",
      "\n",
      "----------------------------\n",
      "\n",
      "count     1470.000000\n",
      "mean     14313.103401\n",
      "std       7117.786044\n",
      "min       2094.000000\n",
      "25%       8047.000000\n",
      "50%      14235.500000\n",
      "75%      20461.500000\n",
      "max      26999.000000\n",
      "Name: MonthlyRate, dtype: float64\n",
      "\n",
      "----------------------------\n",
      "\n",
      "count    1470.000000\n",
      "mean        2.693197\n",
      "std         2.498009\n",
      "min         0.000000\n",
      "25%         1.000000\n",
      "50%         2.000000\n",
      "75%         4.000000\n",
      "max         9.000000\n",
      "Name: NumCompaniesWorked, dtype: float64\n",
      "\n",
      "----------------------------\n",
      "\n",
      "count     1470\n",
      "unique       1\n",
      "top          Y\n",
      "freq      1470\n",
      "Name: Over18, dtype: object\n",
      "\n",
      "----------------------------\n",
      "\n",
      "count     1470\n",
      "unique       2\n",
      "top         No\n",
      "freq      1054\n",
      "Name: OverTime, dtype: object\n",
      "\n",
      "----------------------------\n",
      "\n",
      "count    1470.000000\n",
      "mean       15.209524\n",
      "std         3.659938\n",
      "min        11.000000\n",
      "25%        12.000000\n",
      "50%        14.000000\n",
      "75%        18.000000\n",
      "max        25.000000\n",
      "Name: PercentSalaryHike, dtype: float64\n",
      "\n",
      "----------------------------\n",
      "\n",
      "count    1470.000000\n",
      "mean        3.153741\n",
      "std         0.360824\n",
      "min         3.000000\n",
      "25%         3.000000\n",
      "50%         3.000000\n",
      "75%         3.000000\n",
      "max         4.000000\n",
      "Name: PerformanceRating, dtype: float64\n",
      "\n",
      "----------------------------\n",
      "\n",
      "count    1470.000000\n",
      "mean        2.712245\n",
      "std         1.081209\n",
      "min         1.000000\n",
      "25%         2.000000\n",
      "50%         3.000000\n",
      "75%         4.000000\n",
      "max         4.000000\n",
      "Name: RelationshipSatisfaction, dtype: float64\n",
      "\n",
      "----------------------------\n",
      "\n",
      "count    1470.0\n",
      "mean       80.0\n",
      "std         0.0\n",
      "min        80.0\n",
      "25%        80.0\n",
      "50%        80.0\n",
      "75%        80.0\n",
      "max        80.0\n",
      "Name: StandardHours, dtype: float64\n",
      "\n",
      "----------------------------\n",
      "\n",
      "count    1470.000000\n",
      "mean        0.793878\n",
      "std         0.852077\n",
      "min         0.000000\n",
      "25%         0.000000\n",
      "50%         1.000000\n",
      "75%         1.000000\n",
      "max         3.000000\n",
      "Name: StockOptionLevel, dtype: float64\n",
      "\n",
      "----------------------------\n",
      "\n",
      "count    1470.000000\n",
      "mean       11.279592\n",
      "std         7.780782\n",
      "min         0.000000\n",
      "25%         6.000000\n",
      "50%        10.000000\n",
      "75%        15.000000\n",
      "max        40.000000\n",
      "Name: TotalWorkingYears, dtype: float64\n",
      "\n",
      "----------------------------\n",
      "\n",
      "count    1470.000000\n",
      "mean        2.799320\n",
      "std         1.289271\n",
      "min         0.000000\n",
      "25%         2.000000\n",
      "50%         3.000000\n",
      "75%         3.000000\n",
      "max         6.000000\n",
      "Name: TrainingTimesLastYear, dtype: float64\n",
      "\n",
      "----------------------------\n",
      "\n",
      "count    1470.000000\n",
      "mean        2.761224\n",
      "std         0.706476\n",
      "min         1.000000\n",
      "25%         2.000000\n",
      "50%         3.000000\n",
      "75%         3.000000\n",
      "max         4.000000\n",
      "Name: WorkLifeBalance, dtype: float64\n",
      "\n",
      "----------------------------\n",
      "\n",
      "count    1470.000000\n",
      "mean        7.008163\n",
      "std         6.126525\n",
      "min         0.000000\n",
      "25%         3.000000\n",
      "50%         5.000000\n",
      "75%         9.000000\n",
      "max        40.000000\n",
      "Name: YearsAtCompany, dtype: float64\n",
      "\n",
      "----------------------------\n",
      "\n",
      "count    1470.000000\n",
      "mean        4.229252\n",
      "std         3.623137\n",
      "min         0.000000\n",
      "25%         2.000000\n",
      "50%         3.000000\n",
      "75%         7.000000\n",
      "max        18.000000\n",
      "Name: YearsInCurrentRole, dtype: float64\n",
      "\n",
      "----------------------------\n",
      "\n",
      "count    1470.000000\n",
      "mean        2.187755\n",
      "std         3.222430\n",
      "min         0.000000\n",
      "25%         0.000000\n",
      "50%         1.000000\n",
      "75%         3.000000\n",
      "max        15.000000\n",
      "Name: YearsSinceLastPromotion, dtype: float64\n",
      "\n",
      "----------------------------\n",
      "\n",
      "count    1470.000000\n",
      "mean        4.123129\n",
      "std         3.568136\n",
      "min         0.000000\n",
      "25%         2.000000\n",
      "50%         3.000000\n",
      "75%         7.000000\n",
      "max        17.000000\n",
      "Name: YearsWithCurrManager, dtype: float64\n",
      "\n",
      "----------------------------\n",
      "\n"
     ]
    }
   ],
   "source": [
    "# getting statistical information for every column in dataset by iterating over the columns by a for loop and getting these data using describe() function\n",
    "for column in data.columns:\n",
    "    print(data[column].describe())\n",
    "    print(\"\\n----------------------------\\n\")"
   ]
  },
  {
   "cell_type": "code",
   "execution_count": 7,
   "id": "892332af",
   "metadata": {},
   "outputs": [
    {
     "data": {
      "text/plain": [
       "Age                         False\n",
       "Attrition                   False\n",
       "BusinessTravel              False\n",
       "DailyRate                   False\n",
       "Department                  False\n",
       "DistanceFromHome            False\n",
       "Education                   False\n",
       "EducationField              False\n",
       "EmployeeCount               False\n",
       "EmployeeNumber              False\n",
       "EnvironmentSatisfaction     False\n",
       "Gender                      False\n",
       "HourlyRate                  False\n",
       "JobInvolvement              False\n",
       "JobLevel                    False\n",
       "JobRole                     False\n",
       "JobSatisfaction             False\n",
       "MaritalStatus               False\n",
       "MonthlyIncome               False\n",
       "MonthlyRate                 False\n",
       "NumCompaniesWorked          False\n",
       "Over18                      False\n",
       "OverTime                    False\n",
       "PercentSalaryHike           False\n",
       "PerformanceRating           False\n",
       "RelationshipSatisfaction    False\n",
       "StandardHours               False\n",
       "StockOptionLevel            False\n",
       "TotalWorkingYears           False\n",
       "TrainingTimesLastYear       False\n",
       "WorkLifeBalance             False\n",
       "YearsAtCompany              False\n",
       "YearsInCurrentRole          False\n",
       "YearsSinceLastPromotion     False\n",
       "YearsWithCurrManager        False\n",
       "dtype: bool"
      ]
     },
     "execution_count": 7,
     "metadata": {},
     "output_type": "execute_result"
    }
   ],
   "source": [
    "# trying to know if there is any cell in the sheet that doesn't contain any value by using isnull() and any() functions if there is the output will be true false otherwise\n",
    "data.isnull().any()"
   ]
  },
  {
   "cell_type": "markdown",
   "id": "adec3d36",
   "metadata": {},
   "source": [
    "## there is no missing data found in the sheet"
   ]
  },
  {
   "cell_type": "markdown",
   "id": "9b97b0ca",
   "metadata": {},
   "source": [
    "### Notes when reading the data"
   ]
  },
  {
   "cell_type": "markdown",
   "id": "98642be4",
   "metadata": {},
   "source": [
    "#### there are discrete columns from the dataset needs to be repaired like :"
   ]
  },
  {
   "cell_type": "markdown",
   "id": "082ce7e7",
   "metadata": {},
   "source": [
    "- Education\n",
    "- Enviroment Satisfaction \n",
    "- Job Satisfaction \n",
    "- Performance Rating \n",
    "- Job Involvement\n",
    "- Relationship Satisfaction\n",
    "- Work Life Balance"
   ]
  },
  {
   "cell_type": "markdown",
   "id": "e89271e7",
   "metadata": {},
   "source": [
    "#### also from reading the data there are many columns I don't think they should exist in the dataset such as (\"StandardHours\",\"EmployeeCount\",\"Over18\") as all standard hours are equal to 80 , EmployeeCount should count the number of employee's in the company but it has one value which is 1 and all employee's in the company are Over 18 years\n",
    "\n",
    "#### We have to repair the dataset from columns that have no useful information through cleaning it\n",
    "\n",
    "## 2- Data Manipulation\n",
    "\n",
    "##### first by removing these columns"
   ]
  },
  {
   "cell_type": "code",
   "execution_count": 8,
   "id": "68a79f5f",
   "metadata": {},
   "outputs": [
    {
     "data": {
      "text/plain": [
       "Index(['Age', 'Attrition', 'BusinessTravel', 'DailyRate', 'Department',\n",
       "       'DistanceFromHome', 'Education', 'EducationField', 'EmployeeNumber',\n",
       "       'EnvironmentSatisfaction', 'Gender', 'HourlyRate', 'JobInvolvement',\n",
       "       'JobLevel', 'JobRole', 'JobSatisfaction', 'MaritalStatus',\n",
       "       'MonthlyIncome', 'MonthlyRate', 'NumCompaniesWorked', 'OverTime',\n",
       "       'PercentSalaryHike', 'PerformanceRating', 'RelationshipSatisfaction',\n",
       "       'StockOptionLevel', 'TotalWorkingYears', 'TrainingTimesLastYear',\n",
       "       'WorkLifeBalance', 'YearsAtCompany', 'YearsInCurrentRole',\n",
       "       'YearsSinceLastPromotion', 'YearsWithCurrManager'],\n",
       "      dtype='object')"
      ]
     },
     "execution_count": 8,
     "metadata": {},
     "output_type": "execute_result"
    }
   ],
   "source": [
    "# removing redundant columns using drop() function and giving it the columns that should be removed\n",
    "data.drop(columns=['EmployeeCount', 'Over18', 'StandardHours'], inplace=True)\n",
    "data.columns"
   ]
  },
  {
   "cell_type": "markdown",
   "id": "6015e0d2",
   "metadata": {},
   "source": [
    "##### Then repairing the discrete columns by converting its values"
   ]
  },
  {
   "cell_type": "code",
   "execution_count": 9,
   "id": "983c0257",
   "metadata": {},
   "outputs": [
    {
     "data": {
      "text/html": [
       "<div>\n",
       "<style scoped>\n",
       "    .dataframe tbody tr th:only-of-type {\n",
       "        vertical-align: middle;\n",
       "    }\n",
       "\n",
       "    .dataframe tbody tr th {\n",
       "        vertical-align: top;\n",
       "    }\n",
       "\n",
       "    .dataframe thead th {\n",
       "        text-align: right;\n",
       "    }\n",
       "</style>\n",
       "<table border=\"1\" class=\"dataframe\">\n",
       "  <thead>\n",
       "    <tr style=\"text-align: right;\">\n",
       "      <th></th>\n",
       "      <th>Age</th>\n",
       "      <th>Attrition</th>\n",
       "      <th>BusinessTravel</th>\n",
       "      <th>DailyRate</th>\n",
       "      <th>Department</th>\n",
       "      <th>DistanceFromHome</th>\n",
       "      <th>Education</th>\n",
       "      <th>EducationField</th>\n",
       "      <th>EmployeeNumber</th>\n",
       "      <th>EnvironmentSatisfaction</th>\n",
       "      <th>...</th>\n",
       "      <th>PerformanceRating</th>\n",
       "      <th>RelationshipSatisfaction</th>\n",
       "      <th>StockOptionLevel</th>\n",
       "      <th>TotalWorkingYears</th>\n",
       "      <th>TrainingTimesLastYear</th>\n",
       "      <th>WorkLifeBalance</th>\n",
       "      <th>YearsAtCompany</th>\n",
       "      <th>YearsInCurrentRole</th>\n",
       "      <th>YearsSinceLastPromotion</th>\n",
       "      <th>YearsWithCurrManager</th>\n",
       "    </tr>\n",
       "  </thead>\n",
       "  <tbody>\n",
       "    <tr>\n",
       "      <th>0</th>\n",
       "      <td>41</td>\n",
       "      <td>Yes</td>\n",
       "      <td>Travel_Rarely</td>\n",
       "      <td>1102</td>\n",
       "      <td>Sales</td>\n",
       "      <td>1</td>\n",
       "      <td>College</td>\n",
       "      <td>Life Sciences</td>\n",
       "      <td>1</td>\n",
       "      <td>Medium</td>\n",
       "      <td>...</td>\n",
       "      <td>Excellent</td>\n",
       "      <td>Low</td>\n",
       "      <td>0</td>\n",
       "      <td>8</td>\n",
       "      <td>0</td>\n",
       "      <td>Bad</td>\n",
       "      <td>6</td>\n",
       "      <td>4</td>\n",
       "      <td>0</td>\n",
       "      <td>5</td>\n",
       "    </tr>\n",
       "    <tr>\n",
       "      <th>1</th>\n",
       "      <td>49</td>\n",
       "      <td>No</td>\n",
       "      <td>Travel_Frequently</td>\n",
       "      <td>279</td>\n",
       "      <td>Research &amp; Development</td>\n",
       "      <td>8</td>\n",
       "      <td>Below College</td>\n",
       "      <td>Life Sciences</td>\n",
       "      <td>2</td>\n",
       "      <td>High</td>\n",
       "      <td>...</td>\n",
       "      <td>Outstanding</td>\n",
       "      <td>Very High</td>\n",
       "      <td>1</td>\n",
       "      <td>10</td>\n",
       "      <td>3</td>\n",
       "      <td>Better</td>\n",
       "      <td>10</td>\n",
       "      <td>7</td>\n",
       "      <td>1</td>\n",
       "      <td>7</td>\n",
       "    </tr>\n",
       "    <tr>\n",
       "      <th>2</th>\n",
       "      <td>37</td>\n",
       "      <td>Yes</td>\n",
       "      <td>Travel_Rarely</td>\n",
       "      <td>1373</td>\n",
       "      <td>Research &amp; Development</td>\n",
       "      <td>2</td>\n",
       "      <td>College</td>\n",
       "      <td>Other</td>\n",
       "      <td>4</td>\n",
       "      <td>Very High</td>\n",
       "      <td>...</td>\n",
       "      <td>Excellent</td>\n",
       "      <td>Medium</td>\n",
       "      <td>0</td>\n",
       "      <td>7</td>\n",
       "      <td>3</td>\n",
       "      <td>Better</td>\n",
       "      <td>0</td>\n",
       "      <td>0</td>\n",
       "      <td>0</td>\n",
       "      <td>0</td>\n",
       "    </tr>\n",
       "    <tr>\n",
       "      <th>3</th>\n",
       "      <td>33</td>\n",
       "      <td>No</td>\n",
       "      <td>Travel_Frequently</td>\n",
       "      <td>1392</td>\n",
       "      <td>Research &amp; Development</td>\n",
       "      <td>3</td>\n",
       "      <td>Master</td>\n",
       "      <td>Life Sciences</td>\n",
       "      <td>5</td>\n",
       "      <td>Very High</td>\n",
       "      <td>...</td>\n",
       "      <td>Excellent</td>\n",
       "      <td>High</td>\n",
       "      <td>0</td>\n",
       "      <td>8</td>\n",
       "      <td>3</td>\n",
       "      <td>Better</td>\n",
       "      <td>8</td>\n",
       "      <td>7</td>\n",
       "      <td>3</td>\n",
       "      <td>0</td>\n",
       "    </tr>\n",
       "    <tr>\n",
       "      <th>4</th>\n",
       "      <td>27</td>\n",
       "      <td>No</td>\n",
       "      <td>Travel_Rarely</td>\n",
       "      <td>591</td>\n",
       "      <td>Research &amp; Development</td>\n",
       "      <td>2</td>\n",
       "      <td>Below College</td>\n",
       "      <td>Medical</td>\n",
       "      <td>7</td>\n",
       "      <td>Low</td>\n",
       "      <td>...</td>\n",
       "      <td>Excellent</td>\n",
       "      <td>Very High</td>\n",
       "      <td>1</td>\n",
       "      <td>6</td>\n",
       "      <td>3</td>\n",
       "      <td>Better</td>\n",
       "      <td>2</td>\n",
       "      <td>2</td>\n",
       "      <td>2</td>\n",
       "      <td>2</td>\n",
       "    </tr>\n",
       "  </tbody>\n",
       "</table>\n",
       "<p>5 rows × 32 columns</p>\n",
       "</div>"
      ],
      "text/plain": [
       "   Age Attrition     BusinessTravel  DailyRate              Department  \\\n",
       "0   41       Yes      Travel_Rarely       1102                   Sales   \n",
       "1   49        No  Travel_Frequently        279  Research & Development   \n",
       "2   37       Yes      Travel_Rarely       1373  Research & Development   \n",
       "3   33        No  Travel_Frequently       1392  Research & Development   \n",
       "4   27        No      Travel_Rarely        591  Research & Development   \n",
       "\n",
       "   DistanceFromHome      Education EducationField  EmployeeNumber  \\\n",
       "0                 1        College  Life Sciences               1   \n",
       "1                 8  Below College  Life Sciences               2   \n",
       "2                 2        College          Other               4   \n",
       "3                 3         Master  Life Sciences               5   \n",
       "4                 2  Below College        Medical               7   \n",
       "\n",
       "  EnvironmentSatisfaction  ... PerformanceRating  RelationshipSatisfaction  \\\n",
       "0                  Medium  ...         Excellent                       Low   \n",
       "1                    High  ...       Outstanding                 Very High   \n",
       "2               Very High  ...         Excellent                    Medium   \n",
       "3               Very High  ...         Excellent                      High   \n",
       "4                     Low  ...         Excellent                 Very High   \n",
       "\n",
       "  StockOptionLevel  TotalWorkingYears TrainingTimesLastYear WorkLifeBalance  \\\n",
       "0                0                  8                     0             Bad   \n",
       "1                1                 10                     3          Better   \n",
       "2                0                  7                     3          Better   \n",
       "3                0                  8                     3          Better   \n",
       "4                1                  6                     3          Better   \n",
       "\n",
       "  YearsAtCompany  YearsInCurrentRole  YearsSinceLastPromotion  \\\n",
       "0              6                   4                        0   \n",
       "1             10                   7                        1   \n",
       "2              0                   0                        0   \n",
       "3              8                   7                        3   \n",
       "4              2                   2                        2   \n",
       "\n",
       "   YearsWithCurrManager  \n",
       "0                     5  \n",
       "1                     7  \n",
       "2                     0  \n",
       "3                     0  \n",
       "4                     2  \n",
       "\n",
       "[5 rows x 32 columns]"
      ]
     },
     "execution_count": 9,
     "metadata": {},
     "output_type": "execute_result"
    }
   ],
   "source": [
    "data['Education'] = data['Education'].replace([1,2,3,4,5],['Below College','College', 'Bachelor', 'Master', 'Doctor'])\n",
    "data['WorkLifeBalance'] = data['WorkLifeBalance'].replace([1,2,3,4],['Bad','Good', 'Better', 'Best'])\n",
    "data['RelationshipSatisfaction'] = data['RelationshipSatisfaction'].replace([1,2,3,4],['Low','Medium', 'High', 'Very High'])\n",
    "data['PerformanceRating'] = data['PerformanceRating'].replace([1,2,3,4],['Low','Good', 'Excellent', 'Outstanding'])\n",
    "data['JobSatisfaction'] = data['JobSatisfaction'].replace([1,2,3,4],['Low','Medium', 'High', 'Very High'])\n",
    "data['JobInvolvement'] = data['JobInvolvement'].replace([1,2,3,4],['Low','Medium', 'High', 'Very High'])\n",
    "data['EnvironmentSatisfaction'] = data['EnvironmentSatisfaction'].replace([1,2,3,4],['Low','Medium', 'High', 'Very High'])\n",
    "data.head()"
   ]
  },
  {
   "cell_type": "markdown",
   "id": "b268ad73",
   "metadata": {},
   "source": [
    "##### As we see here from the above table we fixed the categorical values in columns and now it gives us meaningful data"
   ]
  },
  {
   "cell_type": "markdown",
   "id": "75a36a13",
   "metadata": {},
   "source": [
    "#### now after manipulating the data from the wasted columns we go through the next step is plotting and exploring the data which is:\n",
    "\n",
    "## 3- Exploratory Data Analysis (EDA) or Descriptive statistics\n",
    "\n",
    "- We first ask questions that is related to the data and how it affects negatively on the organization"
   ]
  },
  {
   "cell_type": "markdown",
   "id": "c78f21e0",
   "metadata": {},
   "source": [
    "##### How is attrition affecting the organization"
   ]
  },
  {
   "cell_type": "code",
   "execution_count": 10,
   "id": "503baf21",
   "metadata": {},
   "outputs": [
    {
     "data": {
      "text/plain": [
       "<seaborn.axisgrid.FacetGrid at 0x2129bd2daf0>"
      ]
     },
     "execution_count": 10,
     "metadata": {},
     "output_type": "execute_result"
    },
    {
     "data": {
      "image/png": "[encoded data removed]",
      "text/plain": [
       "<Figure size 360x360 with 1 Axes>"
      ]
     },
     "metadata": {
      "needs_background": "light"
     },
     "output_type": "display_data"
    }
   ],
   "source": [
    "sns.displot(data=data, x=\"Attrition\")"
   ]
  },
  {
   "cell_type": "code",
   "execution_count": 11,
   "id": "0cc4d852",
   "metadata": {},
   "outputs": [
    {
     "data": {
      "text/plain": [
       "No     1233\n",
       "Yes     237\n",
       "Name: Attrition, dtype: int64"
      ]
     },
     "execution_count": 11,
     "metadata": {},
     "output_type": "execute_result"
    }
   ],
   "source": [
    "data[\"Attrition\"].value_counts()"
   ]
  },
  {
   "cell_type": "code",
   "execution_count": 12,
   "id": "0e41401e",
   "metadata": {},
   "outputs": [
    {
     "data": {
      "text/plain": [
       "No     83.877551\n",
       "Yes    16.122449\n",
       "Name: Attrition, dtype: float64"
      ]
     },
     "execution_count": 12,
     "metadata": {},
     "output_type": "execute_result"
    }
   ],
   "source": [
    "data[\"Attrition\"].value_counts(normalize=True)*100"
   ]
  },
  {
   "cell_type": "markdown",
   "id": "de59a52e",
   "metadata": {},
   "source": [
    "###### there are 237 employee's left the organization which is equal to 16% approximately"
   ]
  },
  {
   "cell_type": "markdown",
   "id": "16b06050",
   "metadata": {},
   "source": [
    "##### but from which department they are ?"
   ]
  },
  {
   "cell_type": "code",
   "execution_count": 13,
   "id": "6d5db751",
   "metadata": {},
   "outputs": [
    {
     "data": {
      "text/plain": [
       "Text(0.5, 1.0, ' Attrition By Department')"
      ]
     },
     "execution_count": 13,
     "metadata": {},
     "output_type": "execute_result"
    },
    {
     "data": {
      "image/png": "[encoded data removed]",
      "text/plain": [
       "<Figure size 432x288 with 1 Axes>"
      ]
     },
     "metadata": {
      "needs_background": "light"
     },
     "output_type": "display_data"
    }
   ],
   "source": [
    "ax=sns.histplot(data=data, x=\"Attrition\", hue=\"Department\", multiple=\"dodge\", shrink=.8,palette=\"ch:s=.25,rot=-.25\")\n",
    "ax.set_title(\" Attrition By Department\")"
   ]
  },
  {
   "cell_type": "markdown",
   "id": "78f6b411",
   "metadata": {},
   "source": [
    "##### most of the organization employee's are from Research & Development Department and about 150 of them left the organization\n",
    "\n",
    "##### What is the percentage of each department in the organization ?"
   ]
  },
  {
   "cell_type": "code",
   "execution_count": 14,
   "id": "c6bd4901",
   "metadata": {},
   "outputs": [
    {
     "data": {
      "text/plain": [
       "<AxesSubplot:ylabel='Department'>"
      ]
     },
     "execution_count": 14,
     "metadata": {},
     "output_type": "execute_result"
    },
    {
     "data": {
      "image/png": "[encoded data removed]",
      "text/plain": [
       "<Figure size 432x288 with 1 Axes>"
      ]
     },
     "metadata": {},
     "output_type": "display_data"
    }
   ],
   "source": [
    "round(data['Department'].value_counts()/ data.shape[0]*100,2).plot.pie(autopct = '%1.1f%%')"
   ]
  },
  {
   "cell_type": "markdown",
   "id": "76147109",
   "metadata": {},
   "source": [
    "##### it seems that most of the organization employee's are from research and development department about 65.4%"
   ]
  },
  {
   "cell_type": "markdown",
   "id": "b7e4e5b3",
   "metadata": {},
   "source": [
    "#####  What education most attrited employee's are from ?"
   ]
  },
  {
   "cell_type": "code",
   "execution_count": 15,
   "id": "54f1ac41",
   "metadata": {},
   "outputs": [
    {
     "data": {
      "image/png": "[encoded data removed]",
      "text/plain": [
       "<Figure size 432x288 with 1 Axes>"
      ]
     },
     "metadata": {
      "needs_background": "light"
     },
     "output_type": "display_data"
    }
   ],
   "source": [
    "sns.countplot(data=data[(data['Attrition'] == 'Yes')], x='Education',palette='light:#5A9').set_title('Attrition by Education');"
   ]
  },
  {
   "cell_type": "markdown",
   "id": "7384224a",
   "metadata": {},
   "source": [
    "##### most emplyee's attrited are with a Bachelor degree "
   ]
  },
  {
   "cell_type": "markdown",
   "id": "aa9755fa",
   "metadata": {},
   "source": [
    "##### What is The Education Field of Those Who Left ?\n",
    "\n",
    "##### How is Attrition and Education Fields are related to each other"
   ]
  },
  {
   "cell_type": "code",
   "execution_count": 16,
   "id": "a1ea9176",
   "metadata": {},
   "outputs": [
    {
     "data": {
      "text/plain": [
       "Life Sciences       89\n",
       "Medical             63\n",
       "Marketing           35\n",
       "Technical Degree    32\n",
       "Other               11\n",
       "Human Resources      7\n",
       "Name: EducationField, dtype: int64"
      ]
     },
     "execution_count": 16,
     "metadata": {},
     "output_type": "execute_result"
    }
   ],
   "source": [
    "attritionField = data.loc[data.Attrition == 'Yes'].EducationField.value_counts()\n",
    "attritionField"
   ]
  },
  {
   "cell_type": "markdown",
   "id": "60a56758",
   "metadata": {},
   "source": [
    "##### 89 employee's left are from the life science field followed by 63 from medicine field"
   ]
  },
  {
   "cell_type": "code",
   "execution_count": 17,
   "id": "2212ab74",
   "metadata": {},
   "outputs": [
    {
     "data": {
      "text/plain": [
       "Text(0.5, 1.0, 'Attrition by Education Field')"
      ]
     },
     "execution_count": 17,
     "metadata": {},
     "output_type": "execute_result"
    },
    {
     "data": {
      "image/png": "[encoded data removed]",
      "text/plain": [
       "<Figure size 720x720 with 1 Axes>"
      ]
     },
     "metadata": {},
     "output_type": "display_data"
    }
   ],
   "source": [
    "plt.figure(figsize=(8, 8), dpi=90)\n",
    "plt.pie(attritionField, labels = attritionField.index, autopct='%1.1f%%');\n",
    "ax = plt.gca()\n",
    "ax.set_title(\"Attrition by Education Field\")"
   ]
  },
  {
   "cell_type": "markdown",
   "id": "2f015ced",
   "metadata": {},
   "source": [
    "##### about 38% of the employee's left the company from the life science field followed by 27% from the Medical Field "
   ]
  },
  {
   "cell_type": "markdown",
   "id": "3420e529",
   "metadata": {},
   "source": [
    "##### What is the organization most employee's ?"
   ]
  },
  {
   "cell_type": "code",
   "execution_count": 18,
   "id": "82391301",
   "metadata": {},
   "outputs": [
    {
     "data": {
      "text/plain": [
       "<AxesSubplot:xlabel='Attrition', ylabel='Count'>"
      ]
     },
     "execution_count": 18,
     "metadata": {},
     "output_type": "execute_result"
    },
    {
     "data": {
      "image/png": "[encoded data removed]",
      "text/plain": [
       "<Figure size 432x288 with 1 Axes>"
      ]
     },
     "metadata": {
      "needs_background": "light"
     },
     "output_type": "display_data"
    }
   ],
   "source": [
    "sns.histplot(data=data, x=\"Attrition\", hue=\"Gender\", multiple=\"dodge\", shrink=.8,palette=\"flare\")\n"
   ]
  },
  {
   "cell_type": "markdown",
   "id": "18a6434a",
   "metadata": {},
   "source": [
    "##### most employee's in the organization and most of them left are Males"
   ]
  },
  {
   "cell_type": "markdown",
   "id": "7b0833db",
   "metadata": {},
   "source": [
    "##### What is the ratio between females and males in the organization ?"
   ]
  },
  {
   "cell_type": "code",
   "execution_count": 19,
   "id": "9919ebfe",
   "metadata": {},
   "outputs": [
    {
     "data": {
      "text/plain": [
       "<AxesSubplot:ylabel='Gender'>"
      ]
     },
     "execution_count": 19,
     "metadata": {},
     "output_type": "execute_result"
    },
    {
     "data": {
      "image/png": "[encoded data removed]",
      "text/plain": [
       "<Figure size 432x288 with 1 Axes>"
      ]
     },
     "metadata": {},
     "output_type": "display_data"
    }
   ],
   "source": [
    "round(data['Gender'].value_counts()/ data.shape[0]*100,2).plot.pie(autopct = '%1.1f%%')"
   ]
  },
  {
   "cell_type": "code",
   "execution_count": 20,
   "id": "a36bcf34",
   "metadata": {},
   "outputs": [
    {
     "data": {
      "text/plain": [
       "Male      882\n",
       "Female    588\n",
       "Name: Gender, dtype: int64"
      ]
     },
     "execution_count": 20,
     "metadata": {},
     "output_type": "execute_result"
    }
   ],
   "source": [
    "data[\"Gender\"].value_counts()"
   ]
  },
  {
   "cell_type": "markdown",
   "id": "6f4216c3",
   "metadata": {},
   "source": [
    "##### How gender affects Attrition ?"
   ]
  },
  {
   "cell_type": "markdown",
   "id": "d1ef9247",
   "metadata": {},
   "source": [
    "##### 60% of employee's are males and 40% are females"
   ]
  },
  {
   "cell_type": "code",
   "execution_count": 21,
   "id": "55616c62",
   "metadata": {},
   "outputs": [
    {
     "data": {
      "text/html": [
       "<div>\n",
       "<style scoped>\n",
       "    .dataframe tbody tr th:only-of-type {\n",
       "        vertical-align: middle;\n",
       "    }\n",
       "\n",
       "    .dataframe tbody tr th {\n",
       "        vertical-align: top;\n",
       "    }\n",
       "\n",
       "    .dataframe thead th {\n",
       "        text-align: right;\n",
       "    }\n",
       "</style>\n",
       "<table border=\"1\" class=\"dataframe\">\n",
       "  <thead>\n",
       "    <tr style=\"text-align: right;\">\n",
       "      <th></th>\n",
       "      <th>Age</th>\n",
       "      <th>Attrition</th>\n",
       "      <th>BusinessTravel</th>\n",
       "      <th>DailyRate</th>\n",
       "      <th>Department</th>\n",
       "      <th>DistanceFromHome</th>\n",
       "      <th>Education</th>\n",
       "      <th>EducationField</th>\n",
       "      <th>EmployeeNumber</th>\n",
       "      <th>EnvironmentSatisfaction</th>\n",
       "      <th>...</th>\n",
       "      <th>PerformanceRating</th>\n",
       "      <th>RelationshipSatisfaction</th>\n",
       "      <th>StockOptionLevel</th>\n",
       "      <th>TotalWorkingYears</th>\n",
       "      <th>TrainingTimesLastYear</th>\n",
       "      <th>WorkLifeBalance</th>\n",
       "      <th>YearsAtCompany</th>\n",
       "      <th>YearsInCurrentRole</th>\n",
       "      <th>YearsSinceLastPromotion</th>\n",
       "      <th>YearsWithCurrManager</th>\n",
       "    </tr>\n",
       "  </thead>\n",
       "  <tbody>\n",
       "    <tr>\n",
       "      <th>2</th>\n",
       "      <td>37</td>\n",
       "      <td>Yes</td>\n",
       "      <td>Travel_Rarely</td>\n",
       "      <td>1373</td>\n",
       "      <td>Research &amp; Development</td>\n",
       "      <td>2</td>\n",
       "      <td>College</td>\n",
       "      <td>Other</td>\n",
       "      <td>4</td>\n",
       "      <td>Very High</td>\n",
       "      <td>...</td>\n",
       "      <td>Excellent</td>\n",
       "      <td>Medium</td>\n",
       "      <td>0</td>\n",
       "      <td>7</td>\n",
       "      <td>3</td>\n",
       "      <td>Better</td>\n",
       "      <td>0</td>\n",
       "      <td>0</td>\n",
       "      <td>0</td>\n",
       "      <td>0</td>\n",
       "    </tr>\n",
       "    <tr>\n",
       "      <th>14</th>\n",
       "      <td>28</td>\n",
       "      <td>Yes</td>\n",
       "      <td>Travel_Rarely</td>\n",
       "      <td>103</td>\n",
       "      <td>Research &amp; Development</td>\n",
       "      <td>24</td>\n",
       "      <td>Bachelor</td>\n",
       "      <td>Life Sciences</td>\n",
       "      <td>19</td>\n",
       "      <td>High</td>\n",
       "      <td>...</td>\n",
       "      <td>Excellent</td>\n",
       "      <td>Medium</td>\n",
       "      <td>0</td>\n",
       "      <td>6</td>\n",
       "      <td>4</td>\n",
       "      <td>Better</td>\n",
       "      <td>4</td>\n",
       "      <td>2</td>\n",
       "      <td>0</td>\n",
       "      <td>3</td>\n",
       "    </tr>\n",
       "    <tr>\n",
       "      <th>21</th>\n",
       "      <td>36</td>\n",
       "      <td>Yes</td>\n",
       "      <td>Travel_Rarely</td>\n",
       "      <td>1218</td>\n",
       "      <td>Sales</td>\n",
       "      <td>9</td>\n",
       "      <td>Master</td>\n",
       "      <td>Life Sciences</td>\n",
       "      <td>27</td>\n",
       "      <td>High</td>\n",
       "      <td>...</td>\n",
       "      <td>Outstanding</td>\n",
       "      <td>Medium</td>\n",
       "      <td>0</td>\n",
       "      <td>10</td>\n",
       "      <td>4</td>\n",
       "      <td>Better</td>\n",
       "      <td>5</td>\n",
       "      <td>3</td>\n",
       "      <td>0</td>\n",
       "      <td>3</td>\n",
       "    </tr>\n",
       "    <tr>\n",
       "      <th>24</th>\n",
       "      <td>34</td>\n",
       "      <td>Yes</td>\n",
       "      <td>Travel_Rarely</td>\n",
       "      <td>699</td>\n",
       "      <td>Research &amp; Development</td>\n",
       "      <td>6</td>\n",
       "      <td>Below College</td>\n",
       "      <td>Medical</td>\n",
       "      <td>31</td>\n",
       "      <td>Medium</td>\n",
       "      <td>...</td>\n",
       "      <td>Excellent</td>\n",
       "      <td>High</td>\n",
       "      <td>0</td>\n",
       "      <td>8</td>\n",
       "      <td>2</td>\n",
       "      <td>Better</td>\n",
       "      <td>4</td>\n",
       "      <td>2</td>\n",
       "      <td>1</td>\n",
       "      <td>3</td>\n",
       "    </tr>\n",
       "    <tr>\n",
       "      <th>33</th>\n",
       "      <td>39</td>\n",
       "      <td>Yes</td>\n",
       "      <td>Travel_Rarely</td>\n",
       "      <td>895</td>\n",
       "      <td>Sales</td>\n",
       "      <td>5</td>\n",
       "      <td>Bachelor</td>\n",
       "      <td>Technical Degree</td>\n",
       "      <td>42</td>\n",
       "      <td>Very High</td>\n",
       "      <td>...</td>\n",
       "      <td>Excellent</td>\n",
       "      <td>High</td>\n",
       "      <td>1</td>\n",
       "      <td>19</td>\n",
       "      <td>6</td>\n",
       "      <td>Best</td>\n",
       "      <td>1</td>\n",
       "      <td>0</td>\n",
       "      <td>0</td>\n",
       "      <td>0</td>\n",
       "    </tr>\n",
       "    <tr>\n",
       "      <th>...</th>\n",
       "      <td>...</td>\n",
       "      <td>...</td>\n",
       "      <td>...</td>\n",
       "      <td>...</td>\n",
       "      <td>...</td>\n",
       "      <td>...</td>\n",
       "      <td>...</td>\n",
       "      <td>...</td>\n",
       "      <td>...</td>\n",
       "      <td>...</td>\n",
       "      <td>...</td>\n",
       "      <td>...</td>\n",
       "      <td>...</td>\n",
       "      <td>...</td>\n",
       "      <td>...</td>\n",
       "      <td>...</td>\n",
       "      <td>...</td>\n",
       "      <td>...</td>\n",
       "      <td>...</td>\n",
       "      <td>...</td>\n",
       "      <td>...</td>\n",
       "    </tr>\n",
       "    <tr>\n",
       "      <th>1438</th>\n",
       "      <td>23</td>\n",
       "      <td>Yes</td>\n",
       "      <td>Travel_Frequently</td>\n",
       "      <td>638</td>\n",
       "      <td>Sales</td>\n",
       "      <td>9</td>\n",
       "      <td>Bachelor</td>\n",
       "      <td>Marketing</td>\n",
       "      <td>2023</td>\n",
       "      <td>Very High</td>\n",
       "      <td>...</td>\n",
       "      <td>Excellent</td>\n",
       "      <td>Low</td>\n",
       "      <td>1</td>\n",
       "      <td>1</td>\n",
       "      <td>3</td>\n",
       "      <td>Good</td>\n",
       "      <td>1</td>\n",
       "      <td>0</td>\n",
       "      <td>1</td>\n",
       "      <td>0</td>\n",
       "    </tr>\n",
       "    <tr>\n",
       "      <th>1442</th>\n",
       "      <td>29</td>\n",
       "      <td>Yes</td>\n",
       "      <td>Travel_Rarely</td>\n",
       "      <td>1092</td>\n",
       "      <td>Research &amp; Development</td>\n",
       "      <td>1</td>\n",
       "      <td>Master</td>\n",
       "      <td>Medical</td>\n",
       "      <td>2027</td>\n",
       "      <td>Low</td>\n",
       "      <td>...</td>\n",
       "      <td>Excellent</td>\n",
       "      <td>Medium</td>\n",
       "      <td>3</td>\n",
       "      <td>4</td>\n",
       "      <td>3</td>\n",
       "      <td>Best</td>\n",
       "      <td>2</td>\n",
       "      <td>2</td>\n",
       "      <td>2</td>\n",
       "      <td>2</td>\n",
       "    </tr>\n",
       "    <tr>\n",
       "      <th>1444</th>\n",
       "      <td>56</td>\n",
       "      <td>Yes</td>\n",
       "      <td>Travel_Rarely</td>\n",
       "      <td>310</td>\n",
       "      <td>Research &amp; Development</td>\n",
       "      <td>7</td>\n",
       "      <td>College</td>\n",
       "      <td>Technical Degree</td>\n",
       "      <td>2032</td>\n",
       "      <td>Very High</td>\n",
       "      <td>...</td>\n",
       "      <td>Excellent</td>\n",
       "      <td>Very High</td>\n",
       "      <td>1</td>\n",
       "      <td>14</td>\n",
       "      <td>4</td>\n",
       "      <td>Bad</td>\n",
       "      <td>10</td>\n",
       "      <td>9</td>\n",
       "      <td>9</td>\n",
       "      <td>8</td>\n",
       "    </tr>\n",
       "    <tr>\n",
       "      <th>1452</th>\n",
       "      <td>50</td>\n",
       "      <td>Yes</td>\n",
       "      <td>Travel_Frequently</td>\n",
       "      <td>878</td>\n",
       "      <td>Sales</td>\n",
       "      <td>1</td>\n",
       "      <td>Master</td>\n",
       "      <td>Life Sciences</td>\n",
       "      <td>2044</td>\n",
       "      <td>Medium</td>\n",
       "      <td>...</td>\n",
       "      <td>Excellent</td>\n",
       "      <td>Very High</td>\n",
       "      <td>2</td>\n",
       "      <td>12</td>\n",
       "      <td>3</td>\n",
       "      <td>Better</td>\n",
       "      <td>6</td>\n",
       "      <td>3</td>\n",
       "      <td>0</td>\n",
       "      <td>1</td>\n",
       "    </tr>\n",
       "    <tr>\n",
       "      <th>1461</th>\n",
       "      <td>50</td>\n",
       "      <td>Yes</td>\n",
       "      <td>Travel_Rarely</td>\n",
       "      <td>410</td>\n",
       "      <td>Sales</td>\n",
       "      <td>28</td>\n",
       "      <td>Bachelor</td>\n",
       "      <td>Marketing</td>\n",
       "      <td>2055</td>\n",
       "      <td>Very High</td>\n",
       "      <td>...</td>\n",
       "      <td>Excellent</td>\n",
       "      <td>Medium</td>\n",
       "      <td>1</td>\n",
       "      <td>20</td>\n",
       "      <td>3</td>\n",
       "      <td>Better</td>\n",
       "      <td>3</td>\n",
       "      <td>2</td>\n",
       "      <td>2</td>\n",
       "      <td>0</td>\n",
       "    </tr>\n",
       "  </tbody>\n",
       "</table>\n",
       "<p>150 rows × 32 columns</p>\n",
       "</div>"
      ],
      "text/plain": [
       "      Age Attrition     BusinessTravel  DailyRate              Department  \\\n",
       "2      37       Yes      Travel_Rarely       1373  Research & Development   \n",
       "14     28       Yes      Travel_Rarely        103  Research & Development   \n",
       "21     36       Yes      Travel_Rarely       1218                   Sales   \n",
       "24     34       Yes      Travel_Rarely        699  Research & Development   \n",
       "33     39       Yes      Travel_Rarely        895                   Sales   \n",
       "...   ...       ...                ...        ...                     ...   \n",
       "1438   23       Yes  Travel_Frequently        638                   Sales   \n",
       "1442   29       Yes      Travel_Rarely       1092  Research & Development   \n",
       "1444   56       Yes      Travel_Rarely        310  Research & Development   \n",
       "1452   50       Yes  Travel_Frequently        878                   Sales   \n",
       "1461   50       Yes      Travel_Rarely        410                   Sales   \n",
       "\n",
       "      DistanceFromHome      Education    EducationField  EmployeeNumber  \\\n",
       "2                    2        College             Other               4   \n",
       "14                  24       Bachelor     Life Sciences              19   \n",
       "21                   9         Master     Life Sciences              27   \n",
       "24                   6  Below College           Medical              31   \n",
       "33                   5       Bachelor  Technical Degree              42   \n",
       "...                ...            ...               ...             ...   \n",
       "1438                 9       Bachelor         Marketing            2023   \n",
       "1442                 1         Master           Medical            2027   \n",
       "1444                 7        College  Technical Degree            2032   \n",
       "1452                 1         Master     Life Sciences            2044   \n",
       "1461                28       Bachelor         Marketing            2055   \n",
       "\n",
       "     EnvironmentSatisfaction  ... PerformanceRating  RelationshipSatisfaction  \\\n",
       "2                  Very High  ...         Excellent                    Medium   \n",
       "14                      High  ...         Excellent                    Medium   \n",
       "21                      High  ...       Outstanding                    Medium   \n",
       "24                    Medium  ...         Excellent                      High   \n",
       "33                 Very High  ...         Excellent                      High   \n",
       "...                      ...  ...               ...                       ...   \n",
       "1438               Very High  ...         Excellent                       Low   \n",
       "1442                     Low  ...         Excellent                    Medium   \n",
       "1444               Very High  ...         Excellent                 Very High   \n",
       "1452                  Medium  ...         Excellent                 Very High   \n",
       "1461               Very High  ...         Excellent                    Medium   \n",
       "\n",
       "     StockOptionLevel  TotalWorkingYears TrainingTimesLastYear  \\\n",
       "2                   0                  7                     3   \n",
       "14                  0                  6                     4   \n",
       "21                  0                 10                     4   \n",
       "24                  0                  8                     2   \n",
       "33                  1                 19                     6   \n",
       "...               ...                ...                   ...   \n",
       "1438                1                  1                     3   \n",
       "1442                3                  4                     3   \n",
       "1444                1                 14                     4   \n",
       "1452                2                 12                     3   \n",
       "1461                1                 20                     3   \n",
       "\n",
       "     WorkLifeBalance YearsAtCompany  YearsInCurrentRole  \\\n",
       "2             Better              0                   0   \n",
       "14            Better              4                   2   \n",
       "21            Better              5                   3   \n",
       "24            Better              4                   2   \n",
       "33              Best              1                   0   \n",
       "...              ...            ...                 ...   \n",
       "1438            Good              1                   0   \n",
       "1442            Best              2                   2   \n",
       "1444             Bad             10                   9   \n",
       "1452          Better              6                   3   \n",
       "1461          Better              3                   2   \n",
       "\n",
       "      YearsSinceLastPromotion  YearsWithCurrManager  \n",
       "2                           0                     0  \n",
       "14                          0                     3  \n",
       "21                          0                     3  \n",
       "24                          1                     3  \n",
       "33                          0                     0  \n",
       "...                       ...                   ...  \n",
       "1438                        1                     0  \n",
       "1442                        2                     2  \n",
       "1444                        9                     8  \n",
       "1452                        0                     1  \n",
       "1461                        2                     0  \n",
       "\n",
       "[150 rows x 32 columns]"
      ]
     },
     "execution_count": 21,
     "metadata": {},
     "output_type": "execute_result"
    }
   ],
   "source": [
    "data[(data['Attrition'] == \"Yes\") & (data['Gender'] == \"Male\")]"
   ]
  },
  {
   "cell_type": "code",
   "execution_count": 22,
   "id": "360731a3",
   "metadata": {},
   "outputs": [
    {
     "data": {
      "text/html": [
       "<div>\n",
       "<style scoped>\n",
       "    .dataframe tbody tr th:only-of-type {\n",
       "        vertical-align: middle;\n",
       "    }\n",
       "\n",
       "    .dataframe tbody tr th {\n",
       "        vertical-align: top;\n",
       "    }\n",
       "\n",
       "    .dataframe thead th {\n",
       "        text-align: right;\n",
       "    }\n",
       "</style>\n",
       "<table border=\"1\" class=\"dataframe\">\n",
       "  <thead>\n",
       "    <tr style=\"text-align: right;\">\n",
       "      <th></th>\n",
       "      <th>Age</th>\n",
       "      <th>Attrition</th>\n",
       "      <th>BusinessTravel</th>\n",
       "      <th>DailyRate</th>\n",
       "      <th>Department</th>\n",
       "      <th>DistanceFromHome</th>\n",
       "      <th>Education</th>\n",
       "      <th>EducationField</th>\n",
       "      <th>EmployeeNumber</th>\n",
       "      <th>EnvironmentSatisfaction</th>\n",
       "      <th>...</th>\n",
       "      <th>PerformanceRating</th>\n",
       "      <th>RelationshipSatisfaction</th>\n",
       "      <th>StockOptionLevel</th>\n",
       "      <th>TotalWorkingYears</th>\n",
       "      <th>TrainingTimesLastYear</th>\n",
       "      <th>WorkLifeBalance</th>\n",
       "      <th>YearsAtCompany</th>\n",
       "      <th>YearsInCurrentRole</th>\n",
       "      <th>YearsSinceLastPromotion</th>\n",
       "      <th>YearsWithCurrManager</th>\n",
       "    </tr>\n",
       "  </thead>\n",
       "  <tbody>\n",
       "    <tr>\n",
       "      <th>0</th>\n",
       "      <td>41</td>\n",
       "      <td>Yes</td>\n",
       "      <td>Travel_Rarely</td>\n",
       "      <td>1102</td>\n",
       "      <td>Sales</td>\n",
       "      <td>1</td>\n",
       "      <td>College</td>\n",
       "      <td>Life Sciences</td>\n",
       "      <td>1</td>\n",
       "      <td>Medium</td>\n",
       "      <td>...</td>\n",
       "      <td>Excellent</td>\n",
       "      <td>Low</td>\n",
       "      <td>0</td>\n",
       "      <td>8</td>\n",
       "      <td>0</td>\n",
       "      <td>Bad</td>\n",
       "      <td>6</td>\n",
       "      <td>4</td>\n",
       "      <td>0</td>\n",
       "      <td>5</td>\n",
       "    </tr>\n",
       "    <tr>\n",
       "      <th>26</th>\n",
       "      <td>32</td>\n",
       "      <td>Yes</td>\n",
       "      <td>Travel_Frequently</td>\n",
       "      <td>1125</td>\n",
       "      <td>Research &amp; Development</td>\n",
       "      <td>16</td>\n",
       "      <td>Below College</td>\n",
       "      <td>Life Sciences</td>\n",
       "      <td>33</td>\n",
       "      <td>Medium</td>\n",
       "      <td>...</td>\n",
       "      <td>Outstanding</td>\n",
       "      <td>Medium</td>\n",
       "      <td>0</td>\n",
       "      <td>10</td>\n",
       "      <td>5</td>\n",
       "      <td>Better</td>\n",
       "      <td>10</td>\n",
       "      <td>2</td>\n",
       "      <td>6</td>\n",
       "      <td>7</td>\n",
       "    </tr>\n",
       "    <tr>\n",
       "      <th>45</th>\n",
       "      <td>41</td>\n",
       "      <td>Yes</td>\n",
       "      <td>Travel_Rarely</td>\n",
       "      <td>1360</td>\n",
       "      <td>Research &amp; Development</td>\n",
       "      <td>12</td>\n",
       "      <td>Bachelor</td>\n",
       "      <td>Technical Degree</td>\n",
       "      <td>58</td>\n",
       "      <td>Medium</td>\n",
       "      <td>...</td>\n",
       "      <td>Excellent</td>\n",
       "      <td>Very High</td>\n",
       "      <td>0</td>\n",
       "      <td>23</td>\n",
       "      <td>0</td>\n",
       "      <td>Better</td>\n",
       "      <td>22</td>\n",
       "      <td>15</td>\n",
       "      <td>15</td>\n",
       "      <td>8</td>\n",
       "    </tr>\n",
       "    <tr>\n",
       "      <th>102</th>\n",
       "      <td>20</td>\n",
       "      <td>Yes</td>\n",
       "      <td>Travel_Frequently</td>\n",
       "      <td>871</td>\n",
       "      <td>Research &amp; Development</td>\n",
       "      <td>6</td>\n",
       "      <td>Bachelor</td>\n",
       "      <td>Life Sciences</td>\n",
       "      <td>137</td>\n",
       "      <td>Very High</td>\n",
       "      <td>...</td>\n",
       "      <td>Excellent</td>\n",
       "      <td>Medium</td>\n",
       "      <td>0</td>\n",
       "      <td>1</td>\n",
       "      <td>5</td>\n",
       "      <td>Better</td>\n",
       "      <td>1</td>\n",
       "      <td>0</td>\n",
       "      <td>1</td>\n",
       "      <td>0</td>\n",
       "    </tr>\n",
       "    <tr>\n",
       "      <th>122</th>\n",
       "      <td>56</td>\n",
       "      <td>Yes</td>\n",
       "      <td>Travel_Rarely</td>\n",
       "      <td>441</td>\n",
       "      <td>Research &amp; Development</td>\n",
       "      <td>14</td>\n",
       "      <td>Master</td>\n",
       "      <td>Life Sciences</td>\n",
       "      <td>161</td>\n",
       "      <td>Medium</td>\n",
       "      <td>...</td>\n",
       "      <td>Excellent</td>\n",
       "      <td>Low</td>\n",
       "      <td>3</td>\n",
       "      <td>7</td>\n",
       "      <td>2</td>\n",
       "      <td>Better</td>\n",
       "      <td>5</td>\n",
       "      <td>4</td>\n",
       "      <td>4</td>\n",
       "      <td>3</td>\n",
       "    </tr>\n",
       "    <tr>\n",
       "      <th>...</th>\n",
       "      <td>...</td>\n",
       "      <td>...</td>\n",
       "      <td>...</td>\n",
       "      <td>...</td>\n",
       "      <td>...</td>\n",
       "      <td>...</td>\n",
       "      <td>...</td>\n",
       "      <td>...</td>\n",
       "      <td>...</td>\n",
       "      <td>...</td>\n",
       "      <td>...</td>\n",
       "      <td>...</td>\n",
       "      <td>...</td>\n",
       "      <td>...</td>\n",
       "      <td>...</td>\n",
       "      <td>...</td>\n",
       "      <td>...</td>\n",
       "      <td>...</td>\n",
       "      <td>...</td>\n",
       "      <td>...</td>\n",
       "      <td>...</td>\n",
       "    </tr>\n",
       "    <tr>\n",
       "      <th>1298</th>\n",
       "      <td>46</td>\n",
       "      <td>Yes</td>\n",
       "      <td>Travel_Rarely</td>\n",
       "      <td>261</td>\n",
       "      <td>Research &amp; Development</td>\n",
       "      <td>21</td>\n",
       "      <td>College</td>\n",
       "      <td>Medical</td>\n",
       "      <td>1821</td>\n",
       "      <td>Very High</td>\n",
       "      <td>...</td>\n",
       "      <td>Outstanding</td>\n",
       "      <td>Very High</td>\n",
       "      <td>1</td>\n",
       "      <td>13</td>\n",
       "      <td>2</td>\n",
       "      <td>Best</td>\n",
       "      <td>9</td>\n",
       "      <td>7</td>\n",
       "      <td>3</td>\n",
       "      <td>7</td>\n",
       "    </tr>\n",
       "    <tr>\n",
       "      <th>1333</th>\n",
       "      <td>46</td>\n",
       "      <td>Yes</td>\n",
       "      <td>Travel_Rarely</td>\n",
       "      <td>1254</td>\n",
       "      <td>Sales</td>\n",
       "      <td>10</td>\n",
       "      <td>Bachelor</td>\n",
       "      <td>Life Sciences</td>\n",
       "      <td>1869</td>\n",
       "      <td>High</td>\n",
       "      <td>...</td>\n",
       "      <td>Outstanding</td>\n",
       "      <td>High</td>\n",
       "      <td>3</td>\n",
       "      <td>14</td>\n",
       "      <td>2</td>\n",
       "      <td>Better</td>\n",
       "      <td>8</td>\n",
       "      <td>7</td>\n",
       "      <td>0</td>\n",
       "      <td>7</td>\n",
       "    </tr>\n",
       "    <tr>\n",
       "      <th>1369</th>\n",
       "      <td>28</td>\n",
       "      <td>Yes</td>\n",
       "      <td>Travel_Rarely</td>\n",
       "      <td>1475</td>\n",
       "      <td>Sales</td>\n",
       "      <td>13</td>\n",
       "      <td>College</td>\n",
       "      <td>Marketing</td>\n",
       "      <td>1933</td>\n",
       "      <td>Very High</td>\n",
       "      <td>...</td>\n",
       "      <td>Excellent</td>\n",
       "      <td>Very High</td>\n",
       "      <td>0</td>\n",
       "      <td>6</td>\n",
       "      <td>0</td>\n",
       "      <td>Better</td>\n",
       "      <td>2</td>\n",
       "      <td>0</td>\n",
       "      <td>2</td>\n",
       "      <td>2</td>\n",
       "    </tr>\n",
       "    <tr>\n",
       "      <th>1375</th>\n",
       "      <td>32</td>\n",
       "      <td>Yes</td>\n",
       "      <td>Travel_Frequently</td>\n",
       "      <td>238</td>\n",
       "      <td>Research &amp; Development</td>\n",
       "      <td>5</td>\n",
       "      <td>College</td>\n",
       "      <td>Life Sciences</td>\n",
       "      <td>1939</td>\n",
       "      <td>Low</td>\n",
       "      <td>...</td>\n",
       "      <td>Excellent</td>\n",
       "      <td>Low</td>\n",
       "      <td>0</td>\n",
       "      <td>8</td>\n",
       "      <td>2</td>\n",
       "      <td>Better</td>\n",
       "      <td>4</td>\n",
       "      <td>1</td>\n",
       "      <td>0</td>\n",
       "      <td>3</td>\n",
       "    </tr>\n",
       "    <tr>\n",
       "      <th>1379</th>\n",
       "      <td>27</td>\n",
       "      <td>Yes</td>\n",
       "      <td>Travel_Frequently</td>\n",
       "      <td>1337</td>\n",
       "      <td>Human Resources</td>\n",
       "      <td>22</td>\n",
       "      <td>Bachelor</td>\n",
       "      <td>Human Resources</td>\n",
       "      <td>1944</td>\n",
       "      <td>Low</td>\n",
       "      <td>...</td>\n",
       "      <td>Excellent</td>\n",
       "      <td>Low</td>\n",
       "      <td>0</td>\n",
       "      <td>1</td>\n",
       "      <td>2</td>\n",
       "      <td>Better</td>\n",
       "      <td>1</td>\n",
       "      <td>0</td>\n",
       "      <td>0</td>\n",
       "      <td>0</td>\n",
       "    </tr>\n",
       "  </tbody>\n",
       "</table>\n",
       "<p>87 rows × 32 columns</p>\n",
       "</div>"
      ],
      "text/plain": [
       "      Age Attrition     BusinessTravel  DailyRate              Department  \\\n",
       "0      41       Yes      Travel_Rarely       1102                   Sales   \n",
       "26     32       Yes  Travel_Frequently       1125  Research & Development   \n",
       "45     41       Yes      Travel_Rarely       1360  Research & Development   \n",
       "102    20       Yes  Travel_Frequently        871  Research & Development   \n",
       "122    56       Yes      Travel_Rarely        441  Research & Development   \n",
       "...   ...       ...                ...        ...                     ...   \n",
       "1298   46       Yes      Travel_Rarely        261  Research & Development   \n",
       "1333   46       Yes      Travel_Rarely       1254                   Sales   \n",
       "1369   28       Yes      Travel_Rarely       1475                   Sales   \n",
       "1375   32       Yes  Travel_Frequently        238  Research & Development   \n",
       "1379   27       Yes  Travel_Frequently       1337         Human Resources   \n",
       "\n",
       "      DistanceFromHome      Education    EducationField  EmployeeNumber  \\\n",
       "0                    1        College     Life Sciences               1   \n",
       "26                  16  Below College     Life Sciences              33   \n",
       "45                  12       Bachelor  Technical Degree              58   \n",
       "102                  6       Bachelor     Life Sciences             137   \n",
       "122                 14         Master     Life Sciences             161   \n",
       "...                ...            ...               ...             ...   \n",
       "1298                21        College           Medical            1821   \n",
       "1333                10       Bachelor     Life Sciences            1869   \n",
       "1369                13        College         Marketing            1933   \n",
       "1375                 5        College     Life Sciences            1939   \n",
       "1379                22       Bachelor   Human Resources            1944   \n",
       "\n",
       "     EnvironmentSatisfaction  ... PerformanceRating  RelationshipSatisfaction  \\\n",
       "0                     Medium  ...         Excellent                       Low   \n",
       "26                    Medium  ...       Outstanding                    Medium   \n",
       "45                    Medium  ...         Excellent                 Very High   \n",
       "102                Very High  ...         Excellent                    Medium   \n",
       "122                   Medium  ...         Excellent                       Low   \n",
       "...                      ...  ...               ...                       ...   \n",
       "1298               Very High  ...       Outstanding                 Very High   \n",
       "1333                    High  ...       Outstanding                      High   \n",
       "1369               Very High  ...         Excellent                 Very High   \n",
       "1375                     Low  ...         Excellent                       Low   \n",
       "1379                     Low  ...         Excellent                       Low   \n",
       "\n",
       "     StockOptionLevel  TotalWorkingYears TrainingTimesLastYear  \\\n",
       "0                   0                  8                     0   \n",
       "26                  0                 10                     5   \n",
       "45                  0                 23                     0   \n",
       "102                 0                  1                     5   \n",
       "122                 3                  7                     2   \n",
       "...               ...                ...                   ...   \n",
       "1298                1                 13                     2   \n",
       "1333                3                 14                     2   \n",
       "1369                0                  6                     0   \n",
       "1375                0                  8                     2   \n",
       "1379                0                  1                     2   \n",
       "\n",
       "     WorkLifeBalance YearsAtCompany  YearsInCurrentRole  \\\n",
       "0                Bad              6                   4   \n",
       "26            Better             10                   2   \n",
       "45            Better             22                  15   \n",
       "102           Better              1                   0   \n",
       "122           Better              5                   4   \n",
       "...              ...            ...                 ...   \n",
       "1298            Best              9                   7   \n",
       "1333          Better              8                   7   \n",
       "1369          Better              2                   0   \n",
       "1375          Better              4                   1   \n",
       "1379          Better              1                   0   \n",
       "\n",
       "      YearsSinceLastPromotion  YearsWithCurrManager  \n",
       "0                           0                     5  \n",
       "26                          6                     7  \n",
       "45                         15                     8  \n",
       "102                         1                     0  \n",
       "122                         4                     3  \n",
       "...                       ...                   ...  \n",
       "1298                        3                     7  \n",
       "1333                        0                     7  \n",
       "1369                        2                     2  \n",
       "1375                        0                     3  \n",
       "1379                        0                     0  \n",
       "\n",
       "[87 rows x 32 columns]"
      ]
     },
     "execution_count": 22,
     "metadata": {},
     "output_type": "execute_result"
    }
   ],
   "source": [
    "data[(data['Attrition'] == \"Yes\") & (data['Gender'] == \"Female\")]"
   ]
  },
  {
   "cell_type": "markdown",
   "id": "7b6106f7",
   "metadata": {},
   "source": [
    "##### from the two figures above it shows that nearly about two times the males who left the organization are more than females"
   ]
  },
  {
   "cell_type": "markdown",
   "id": "908f0aae",
   "metadata": {},
   "source": [
    "##### How is the environment of the Organization can have a negative effect on their employee's"
   ]
  },
  {
   "cell_type": "code",
   "execution_count": 23,
   "id": "f8b99c4c",
   "metadata": {},
   "outputs": [
    {
     "data": {
      "text/plain": [
       "<seaborn.axisgrid.FacetGrid at 0x2129c58f790>"
      ]
     },
     "execution_count": 23,
     "metadata": {},
     "output_type": "execute_result"
    },
    {
     "data": {
      "image/png": "[encoded data removed]",
      "text/plain": [
       "<Figure size 360x360 with 1 Axes>"
      ]
     },
     "metadata": {
      "needs_background": "light"
     },
     "output_type": "display_data"
    }
   ],
   "source": [
    "ESA=data[(data[\"Attrition\"] == \"Yes\")]\n",
    "sns.displot(data=ESA, x=\"EnvironmentSatisfaction\", kde=True).set_titles(\"Environment Satisfaction and Attrition\")"
   ]
  },
  {
   "cell_type": "markdown",
   "id": "7e2a3e80",
   "metadata": {},
   "source": [
    "##### in the above graph it shows that most people leave the job are having a very bad satisfaction with the environment"
   ]
  },
  {
   "cell_type": "markdown",
   "id": "37858722",
   "metadata": {},
   "source": [
    "##### Does the income has an effect on the attrited employee's ?"
   ]
  },
  {
   "cell_type": "code",
   "execution_count": 24,
   "id": "ba92641b",
   "metadata": {},
   "outputs": [
    {
     "data": {
      "text/plain": [
       "<seaborn.axisgrid.FacetGrid at 0x2129c8060a0>"
      ]
     },
     "execution_count": 24,
     "metadata": {},
     "output_type": "execute_result"
    },
    {
     "data": {
      "image/png": "[encoded data removed]",
      "text/plain": [
       "<Figure size 772x360 with 2 Axes>"
      ]
     },
     "metadata": {
      "needs_background": "light"
     },
     "output_type": "display_data"
    }
   ],
   "source": [
    "sns.displot(data=data, x=\"MonthlyIncome\", hue=\"Attrition\", col=\"Gender\", kind=\"kde\",palette=\"husl\").set_titles(\"Attrition By Monthly Income\")\n"
   ]
  },
  {
   "cell_type": "markdown",
   "id": "71d45b40",
   "metadata": {},
   "source": [
    "##### of course most of the organization employee's who left it have low Monthly Income about 3000 pounds salaries"
   ]
  },
  {
   "cell_type": "markdown",
   "id": "9972d499",
   "metadata": {},
   "source": [
    "##### Is there an outlier in the salaries of the employee's ?\n",
    "\n",
    "##### How can monthly income affects on attrition ?\n",
    "##### and Whose average Salaries are more males or females ?"
   ]
  },
  {
   "cell_type": "code",
   "execution_count": 25,
   "id": "1620d2bb",
   "metadata": {},
   "outputs": [
    {
     "data": {
      "text/plain": [
       "Text(0.5, 1.0, 'Females and Males Mounthly Income')"
      ]
     },
     "execution_count": 25,
     "metadata": {},
     "output_type": "execute_result"
    },
    {
     "data": {
      "image/png": "[encoded data removed]",
      "text/plain": [
       "<Figure size 432x288 with 1 Axes>"
      ]
     },
     "metadata": {
      "needs_background": "light"
     },
     "output_type": "display_data"
    }
   ],
   "source": [
    "ax = sns.boxplot(x=\"MonthlyIncome\", y=\"Gender\", data=data)\n",
    "ax.set_title(\"Females and Males Mounthly Income\")\n"
   ]
  },
  {
   "cell_type": "markdown",
   "id": "d463269c",
   "metadata": {},
   "source": [
    "##### there's an outlier appeared in the graph above (right skewed) and average salaries in females are a little more the average salaries in males"
   ]
  },
  {
   "cell_type": "markdown",
   "id": "5ff85777",
   "metadata": {},
   "source": [
    "#####  Education level and salaries are directly proportional to each other explain that ?"
   ]
  },
  {
   "cell_type": "markdown",
   "id": "744da380",
   "metadata": {},
   "source": [
    "##### from the below graph it appears that salaries nearly has no effect on salaries but don't get decived we can look at the graph by scattar plot it would look much more different than it looks"
   ]
  },
  {
   "cell_type": "code",
   "execution_count": 26,
   "id": "df6959a0",
   "metadata": {},
   "outputs": [
    {
     "data": {
      "text/plain": [
       "<seaborn.axisgrid.FacetGrid at 0x2129c7e4160>"
      ]
     },
     "execution_count": 26,
     "metadata": {},
     "output_type": "execute_result"
    },
    {
     "data": {
      "image/png": "[encoded data removed]",
      "text/plain": [
       "<Figure size 826.375x360 with 2 Axes>"
      ]
     },
     "metadata": {
      "needs_background": "light"
     },
     "output_type": "display_data"
    }
   ],
   "source": [
    "ax= sns.displot(data=data, x=\"MonthlyIncome\", hue=\"Education\", col=\"Attrition\", kind=\"kde\")\n",
    "ax.set_titles(\"Salaries by Education Levels\")"
   ]
  },
  {
   "cell_type": "markdown",
   "id": "cdf01d36",
   "metadata": {},
   "source": [
    "##### by using scatter plot below it appears that the most employee's that has high salaries are having Bachelor's and Master's Education"
   ]
  },
  {
   "cell_type": "code",
   "execution_count": 27,
   "id": "ef672429",
   "metadata": {},
   "outputs": [
    {
     "data": {
      "image/png": "[encoded data removed]",
      "text/plain": [
       "<Figure size 432x288 with 2 Axes>"
      ]
     },
     "metadata": {
      "needs_background": "light"
     },
     "output_type": "display_data"
    }
   ],
   "source": [
    "plt.scatter(data['Education'] , data['MonthlyIncome'],alpha=0.1)\n",
    "plt.colorbar()\n",
    "plt.xlabel(\"Education\")\n",
    "plt.ylabel(\"MonthlyIncome\")\n",
    "plt.title(\"Education & MonthlyIncome\")\n",
    "plt.show()"
   ]
  },
  {
   "cell_type": "markdown",
   "id": "f70de099",
   "metadata": {},
   "source": [
    "##### What education has the most performance rating ?"
   ]
  },
  {
   "cell_type": "code",
   "execution_count": 28,
   "id": "a70fc692",
   "metadata": {},
   "outputs": [
    {
     "data": {
      "text/plain": [
       "Text(0.5, 1.0, 'Performance Rating and Education')"
      ]
     },
     "execution_count": 28,
     "metadata": {},
     "output_type": "execute_result"
    },
    {
     "data": {
      "image/png": "[encoded data removed]",
      "text/plain": [
       "<Figure size 432x288 with 1 Axes>"
      ]
     },
     "metadata": {
      "needs_background": "light"
     },
     "output_type": "display_data"
    }
   ],
   "source": [
    "ax = sns.countplot(x=\"PerformanceRating\", hue=\"Education\", data=data)\n",
    "ax.set_title(\"Performance Rating and Education\")"
   ]
  },
  {
   "cell_type": "markdown",
   "id": "fe5490b2",
   "metadata": {},
   "source": [
    "##### it seems to be the employe's with bachelor's degree have the most high performance raiting"
   ]
  },
  {
   "cell_type": "markdown",
   "id": "d22cad2c",
   "metadata": {},
   "source": [
    "##### Who is the the most important employee in the organization according to Monthly Rate and Performance Raiting ?"
   ]
  },
  {
   "cell_type": "code",
   "execution_count": 29,
   "id": "f5701c8e",
   "metadata": {},
   "outputs": [
    {
     "data": {
      "text/plain": [
       "513"
      ]
     },
     "execution_count": 29,
     "metadata": {},
     "output_type": "execute_result"
    }
   ],
   "source": [
    "data[\"MonthlyRate\"].idxmax()"
   ]
  },
  {
   "cell_type": "code",
   "execution_count": 30,
   "id": "d613f03a",
   "metadata": {},
   "outputs": [
    {
     "data": {
      "text/html": [
       "<div>\n",
       "<style scoped>\n",
       "    .dataframe tbody tr th:only-of-type {\n",
       "        vertical-align: middle;\n",
       "    }\n",
       "\n",
       "    .dataframe tbody tr th {\n",
       "        vertical-align: top;\n",
       "    }\n",
       "\n",
       "    .dataframe thead th {\n",
       "        text-align: right;\n",
       "    }\n",
       "</style>\n",
       "<table border=\"1\" class=\"dataframe\">\n",
       "  <thead>\n",
       "    <tr style=\"text-align: right;\">\n",
       "      <th></th>\n",
       "      <th>Age</th>\n",
       "      <th>Attrition</th>\n",
       "      <th>BusinessTravel</th>\n",
       "      <th>DailyRate</th>\n",
       "      <th>Department</th>\n",
       "      <th>DistanceFromHome</th>\n",
       "      <th>Education</th>\n",
       "      <th>EducationField</th>\n",
       "      <th>EmployeeNumber</th>\n",
       "      <th>EnvironmentSatisfaction</th>\n",
       "      <th>...</th>\n",
       "      <th>PerformanceRating</th>\n",
       "      <th>RelationshipSatisfaction</th>\n",
       "      <th>StockOptionLevel</th>\n",
       "      <th>TotalWorkingYears</th>\n",
       "      <th>TrainingTimesLastYear</th>\n",
       "      <th>WorkLifeBalance</th>\n",
       "      <th>YearsAtCompany</th>\n",
       "      <th>YearsInCurrentRole</th>\n",
       "      <th>YearsSinceLastPromotion</th>\n",
       "      <th>YearsWithCurrManager</th>\n",
       "    </tr>\n",
       "  </thead>\n",
       "  <tbody>\n",
       "    <tr>\n",
       "      <th>513</th>\n",
       "      <td>20</td>\n",
       "      <td>Yes</td>\n",
       "      <td>Travel_Rarely</td>\n",
       "      <td>1362</td>\n",
       "      <td>Research &amp; Development</td>\n",
       "      <td>10</td>\n",
       "      <td>Below College</td>\n",
       "      <td>Medical</td>\n",
       "      <td>701</td>\n",
       "      <td>Very High</td>\n",
       "      <td>...</td>\n",
       "      <td>Excellent</td>\n",
       "      <td>Very High</td>\n",
       "      <td>0</td>\n",
       "      <td>1</td>\n",
       "      <td>5</td>\n",
       "      <td>Better</td>\n",
       "      <td>1</td>\n",
       "      <td>0</td>\n",
       "      <td>1</td>\n",
       "      <td>1</td>\n",
       "    </tr>\n",
       "  </tbody>\n",
       "</table>\n",
       "<p>1 rows × 32 columns</p>\n",
       "</div>"
      ],
      "text/plain": [
       "     Age Attrition BusinessTravel  DailyRate              Department  \\\n",
       "513   20       Yes  Travel_Rarely       1362  Research & Development   \n",
       "\n",
       "     DistanceFromHome      Education EducationField  EmployeeNumber  \\\n",
       "513                10  Below College        Medical             701   \n",
       "\n",
       "    EnvironmentSatisfaction  ... PerformanceRating  RelationshipSatisfaction  \\\n",
       "513               Very High  ...         Excellent                 Very High   \n",
       "\n",
       "    StockOptionLevel  TotalWorkingYears TrainingTimesLastYear WorkLifeBalance  \\\n",
       "513                0                  1                     5          Better   \n",
       "\n",
       "    YearsAtCompany  YearsInCurrentRole  YearsSinceLastPromotion  \\\n",
       "513              1                   0                        1   \n",
       "\n",
       "     YearsWithCurrManager  \n",
       "513                     1  \n",
       "\n",
       "[1 rows x 32 columns]"
      ]
     },
     "execution_count": 30,
     "metadata": {},
     "output_type": "execute_result"
    }
   ],
   "source": [
    "data.iloc[513:514]"
   ]
  },
  {
   "cell_type": "markdown",
   "id": "6cd489a8",
   "metadata": {},
   "source": [
    "##### What is the relationship between Marital status ot the employee's and the organization ?"
   ]
  },
  {
   "cell_type": "code",
   "execution_count": 31,
   "id": "2f2bc860",
   "metadata": {},
   "outputs": [
    {
     "data": {
      "image/png": "[encoded data removed]",
      "text/plain": [
       "<Figure size 450x900 with 1 Axes>"
      ]
     },
     "metadata": {
      "needs_background": "light"
     },
     "output_type": "display_data"
    }
   ],
   "source": [
    "plt.figure(figsize=(6,12), dpi=75)\n",
    "sns.set_theme(style=\"ticks\", font_scale = 1.1)\n",
    "sns.countplot(data=data, x='MaritalStatus', hue='Attrition').set_title('Attrition by Marital status');"
   ]
  },
  {
   "cell_type": "markdown",
   "id": "a56d0cb1",
   "metadata": {},
   "source": [
    "##### Divorced and Married employee's are the most association employee's unlike single's who tends to leave their job"
   ]
  },
  {
   "cell_type": "markdown",
   "id": "1d3cae7e",
   "metadata": {},
   "source": [
    "##### What is the relation between Employee's life activities and his/her work ?"
   ]
  },
  {
   "cell_type": "code",
   "execution_count": 32,
   "id": "d3f409d3",
   "metadata": {},
   "outputs": [
    {
     "data": {
      "text/plain": [
       "<AxesSubplot:xlabel='WorkLifeBalance', ylabel='Count'>"
      ]
     },
     "execution_count": 32,
     "metadata": {},
     "output_type": "execute_result"
    },
    {
     "data": {
      "image/png": "[encoded data removed]",
      "text/plain": [
       "<Figure size 432x288 with 1 Axes>"
      ]
     },
     "metadata": {},
     "output_type": "display_data"
    }
   ],
   "source": [
    "sns.histplot(data=data, x=\"WorkLifeBalance\", hue=\"Attrition\", multiple=\"stack\", palette=\"husl\")"
   ]
  },
  {
   "cell_type": "markdown",
   "id": "8b12b15c",
   "metadata": {},
   "source": [
    "##### It seems that most employee's left the organization are not having the best or at least a good work life balance"
   ]
  },
  {
   "cell_type": "markdown",
   "id": "010c540e",
   "metadata": {},
   "source": [
    "##### how the distance from home and Job Satisfaction affects the employee's ?"
   ]
  },
  {
   "cell_type": "code",
   "execution_count": 33,
   "id": "7254e920",
   "metadata": {},
   "outputs": [
    {
     "data": {
      "image/png": "[encoded data removed]",
      "text/plain": [
       "<Figure size 423.185x360 with 1 Axes>"
      ]
     },
     "metadata": {},
     "output_type": "display_data"
    }
   ],
   "source": [
    "g = sns.catplot(x=\"JobSatisfaction\", y=\"DistanceFromHome\", hue=\"Attrition\", data=data , kind=\"violin\")"
   ]
  },
  {
   "cell_type": "markdown",
   "id": "25aab92b",
   "metadata": {},
   "source": [
    "##### most employee's are living nearby the organization and most who left the association are having low Job Satisfaction"
   ]
  },
  {
   "cell_type": "markdown",
   "id": "07627e96",
   "metadata": {},
   "source": [
    "##### Which variables have a strong relationship with each other ?"
   ]
  },
  {
   "cell_type": "code",
   "execution_count": 34,
   "id": "af13ad8c",
   "metadata": {},
   "outputs": [
    {
     "data": {
      "text/plain": [
       "<AxesSubplot:xlabel='Age', ylabel='OverTime'>"
      ]
     },
     "execution_count": 34,
     "metadata": {},
     "output_type": "execute_result"
    },
    {
     "data": {
      "image/png": "[encoded data removed]",
      "text/plain": [
       "<Figure size 432x288 with 1 Axes>"
      ]
     },
     "metadata": {},
     "output_type": "display_data"
    }
   ],
   "source": [
    "sns.scatterplot(data=data, x=\"Age\", y=\"OverTime\", hue=\"Attrition\",alpha=0.1)"
   ]
  },
  {
   "cell_type": "markdown",
   "id": "8ee6475a",
   "metadata": {},
   "source": [
    "##### Age, Attrition and Overtime are having a strong relationship with each other as most employee's leaving the organization are working overtime and their age is in the range between 25-35 years"
   ]
  },
  {
   "cell_type": "code",
   "execution_count": 35,
   "id": "063ba4b9",
   "metadata": {},
   "outputs": [],
   "source": [
    "##### Can the Managers be a reason for the Organization's Failure ?"
   ]
  },
  {
   "cell_type": "code",
   "execution_count": 36,
   "id": "c7599d9b",
   "metadata": {},
   "outputs": [
    {
     "data": {
      "text/plain": [
       "<seaborn.axisgrid.FacetGrid at 0x2129dfe1790>"
      ]
     },
     "execution_count": 36,
     "metadata": {},
     "output_type": "execute_result"
    },
    {
     "data": {
      "image/png": "[encoded data removed]",
      "text/plain": [
       "<Figure size 360x360 with 1 Axes>"
      ]
     },
     "metadata": {},
     "output_type": "display_data"
    }
   ],
   "source": [
    "ESA=data[(data[\"Attrition\"] == \"No\")]\n",
    "sns.displot(data=ESA, x=\"YearsWithCurrManager\", kde=True , palette=\"husl\").set_titles(\"Years with Same Manager\")"
   ]
  },
  {
   "cell_type": "code",
   "execution_count": 37,
   "id": "b8b3e949",
   "metadata": {},
   "outputs": [],
   "source": [
    "##### It seems employee's are most likely to work with the same manager "
   ]
  },
  {
   "cell_type": "markdown",
   "id": "6bcd1f9a",
   "metadata": {},
   "source": [
    "##### What factors are contributing more to employee attrition ?\n",
    "- low salaries\n",
    "- bad life balance between work and activities\n",
    "- low Satisfaction with their job in the association\n",
    "- Overtime job for most young employee's leads to leave their job"
   ]
  },
  {
   "cell_type": "markdown",
   "id": "89a5a874",
   "metadata": {},
   "source": [
    "##### What type of measures should the company take in order to retain their employees?\n",
    "- Men are having low salaries compared to Women and they should put the employee's satisfaction into consideration as employee's with low satisfaction in the association tends to leave it"
   ]
  },
  {
   "cell_type": "markdown",
   "id": "3603b21a",
   "metadata": {},
   "source": [
    "## Conclusion\n",
    "- It's highly recommended to improve the environment and job satisfaction as it makes a lot of employee's quit their job\n",
    "- The Organization should hire more females rather than males as most single males tend to leave the job at young age\n",
    "- It's better for the association not to change employee's managers frequently because the employee's are more likely to work with their old managers\n",
    "- The Organization should care for research and development department as they tend to leave their job by reducing their working hours or increasing their salaries\n",
    "- Increasing Salaries will decrease the number of attrtions especially for males\n",
    "- The Organization shouldn't hire more employee's with bachelor's degree as they cost high salaries and quit their jobs despite high performance\n",
    "- Employee's where their martial status isn't single are more attached to their job\n",
    "- Company Should take the employee's work balance life into consideration because bad balance life leads the employee to leave his/her job\n",
    "- Overtime job should be reduced\n",
    "- Hiring more employee's with life science and medicine fields as they are the most people leave the association\n"
   ]
  }
 ],
 "metadata": {
  "kernelspec": {
   "display_name": "Python 3 (ipykernel)",
   "language": "python",
   "name": "python3"
  },
  "language_info": {
   "codemirror_mode": {
    "name": "ipython",
    "version": 3
   },
   "file_extension": ".py",
   "mimetype": "text/x-python",
   "name": "python",
   "nbconvert_exporter": "python",
   "pygments_lexer": "ipython3",
   "version": "3.9.7"
  }
 },
 "nbformat": 4,
 "nbformat_minor": 5
}
